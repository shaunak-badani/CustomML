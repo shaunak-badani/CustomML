{
 "cells": [
  {
   "cell_type": "code",
   "execution_count": 1,
   "id": "8e7eb865",
   "metadata": {},
   "outputs": [
    {
     "name": "stderr",
     "output_type": "stream",
     "text": [
      "Using TensorFlow backend.\n"
     ]
    }
   ],
   "source": [
    "import keras\n",
    "# from sklearn.preprocessing import LabelBinarizer\n",
    "import matplotlib.pyplot as plt\n",
    "%matplotlib inline"
   ]
  },
  {
   "cell_type": "code",
   "execution_count": 2,
   "id": "7e47c3b5",
   "metadata": {},
   "outputs": [],
   "source": [
    "def load_dataset(flatten=False):\n",
    "    (X_train, y_train), (X_test, y_test) = keras.datasets.mnist.load_data()\n",
    "    # normalize x\n",
    "    X_train = X_train.astype(float) / 255.\n",
    "    X_test = X_test.astype(float) / 255.\n",
    "    # we reserve the last 10000 training examples for validation\n",
    "    X_train, X_val = X_train[:-10000], X_train[-10000:]\n",
    "    y_train, y_val = y_train[:-10000], y_train[-10000:]\n",
    "    if flatten:\n",
    "        X_train = X_train.reshape([X_train.shape[0], -1])\n",
    "        X_val = X_val.reshape([X_val.shape[0], -1])\n",
    "        X_test = X_test.reshape([X_test.shape[0], -1])\n",
    "    return X_train, y_train, X_val, y_val, X_test, y_test"
   ]
  },
  {
   "cell_type": "code",
   "execution_count": 3,
   "id": "3596752d",
   "metadata": {},
   "outputs": [],
   "source": [
    "X_train, y_train, Xn_val, y_val, X_test, y_test = load_dataset()"
   ]
  },
  {
   "cell_type": "code",
   "execution_count": 4,
   "id": "c076dbd3",
   "metadata": {},
   "outputs": [
    {
     "name": "stdout",
     "output_type": "stream",
     "text": [
      "(50000, 28, 28) (50000,)\n"
     ]
    },
    {
     "data": {
      "text/plain": [
       "<matplotlib.image.AxesImage at 0x7fe1a8517a10>"
      ]
     },
     "execution_count": 4,
     "metadata": {},
     "output_type": "execute_result"
    },
    {
     "data": {
      "image/png": "[encoded data removed]",
      "text/plain": [
       "<Figure size 432x288 with 1 Axes>"
      ]
     },
     "metadata": {
      "needs_background": "light"
     },
     "output_type": "display_data"
    }
   ],
   "source": [
    "## Printing dimensions\n",
    "print(X_train.shape, y_train.shape)\n",
    "## Visualizing the first digit\n",
    "plt.imshow(X_train[2], cmap=\"Greys\")"
   ]
  },
  {
   "cell_type": "code",
   "execution_count": 5,
   "id": "a99a5764",
   "metadata": {},
   "outputs": [],
   "source": [
    "X_train, y_train, X_val, y_val, X_test, y_test = load_dataset(flatten = True)"
   ]
  },
  {
   "cell_type": "code",
   "execution_count": 6,
   "id": "a5f674e9",
   "metadata": {},
   "outputs": [],
   "source": [
    "import numpy as np"
   ]
  },
  {
   "cell_type": "code",
   "execution_count": 7,
   "id": "51655f0a",
   "metadata": {},
   "outputs": [
    {
     "name": "stdout",
     "output_type": "stream",
     "text": [
      "9\n"
     ]
    }
   ],
   "source": [
    "print(y_train.max())"
   ]
  },
  {
   "cell_type": "markdown",
   "id": "c01a8ad3",
   "metadata": {},
   "source": [
    "### Making the one hot encoded vector"
   ]
  },
  {
   "cell_type": "code",
   "execution_count": 8,
   "id": "119137aa",
   "metadata": {},
   "outputs": [
    {
     "name": "stdout",
     "output_type": "stream",
     "text": [
      "[[0. 0. 0. ... 0. 0. 0.]\n",
      " [1. 0. 0. ... 0. 0. 0.]\n",
      " [0. 0. 0. ... 0. 0. 0.]\n",
      " ...\n",
      " [0. 0. 0. ... 0. 1. 0.]\n",
      " [0. 0. 0. ... 0. 0. 0.]\n",
      " [0. 0. 0. ... 0. 1. 0.]]\n"
     ]
    }
   ],
   "source": [
    "y_t = np.zeros((y_train.size, 10))\n",
    "y_t[np.arange(y_train.size), y_train] = 1\n",
    "print(y_t)"
   ]
  },
  {
   "cell_type": "markdown",
   "id": "31896299",
   "metadata": {},
   "source": [
    "### Making a deterministic MLP with the following parameters : \n",
    "* no dropout layer\n",
    "* constant learning rate = 0.001\n",
    "* 784 -> 512 -> 256 -> 10\n",
    "* input -> relu -> relu -> relu -> softmax -> sig\n",
    "* no regularization\n",
    "* loss = mean error of (y - y_hat), not MSE\n",
    "* Gradient Descent Optimizer is being used\n",
    "* Taking a particular batch for one epoch, to deterministically evaluate values and gradients of network variables"
   ]
  },
  {
   "cell_type": "markdown",
   "id": "93989734",
   "metadata": {},
   "source": [
    "### Making a custom MLP with numpy"
   ]
  },
  {
   "cell_type": "code",
   "execution_count": 9,
   "id": "1bfbc5ba",
   "metadata": {},
   "outputs": [],
   "source": [
    "import numpy as np"
   ]
  },
  {
   "cell_type": "code",
   "execution_count": 105,
   "id": "4b4ae83a",
   "metadata": {},
   "outputs": [
    {
     "ename": "KeyboardInterrupt",
     "evalue": "",
     "output_type": "error",
     "traceback": [
      "\u001b[0;31m---------------------------------------------------------------------------\u001b[0m",
      "\u001b[0;31mKeyboardInterrupt\u001b[0m                         Traceback (most recent call last)",
      "\u001b[0;32m<ipython-input-105-ddaaa9c7154e>\u001b[0m in \u001b[0;36m<module>\u001b[0;34m\u001b[0m\n\u001b[1;32m     99\u001b[0m \u001b[0mk\u001b[0m \u001b[0;34m=\u001b[0m \u001b[0mCustomMLP\u001b[0m\u001b[0;34m(\u001b[0m\u001b[0;34m)\u001b[0m\u001b[0;34m\u001b[0m\u001b[0;34m\u001b[0m\u001b[0m\n\u001b[1;32m    100\u001b[0m \u001b[0;34m\u001b[0m\u001b[0m\n\u001b[0;32m--> 101\u001b[0;31m \u001b[0mk\u001b[0m\u001b[0;34m.\u001b[0m\u001b[0mtrain\u001b[0m\u001b[0;34m(\u001b[0m\u001b[0mX_train\u001b[0m\u001b[0;34m,\u001b[0m \u001b[0my_t\u001b[0m\u001b[0;34m)\u001b[0m\u001b[0;34m\u001b[0m\u001b[0;34m\u001b[0m\u001b[0m\n\u001b[0m",
      "\u001b[0;32m<ipython-input-105-ddaaa9c7154e>\u001b[0m in \u001b[0;36mtrain\u001b[0;34m(self, X, y, batch_size, epochs)\u001b[0m\n\u001b[1;32m     92\u001b[0m \u001b[0;31m#                 print(self.loss)\u001b[0m\u001b[0;34m\u001b[0m\u001b[0;34m\u001b[0m\u001b[0;34m\u001b[0m\u001b[0m\n\u001b[1;32m     93\u001b[0m                 \u001b[0mself\u001b[0m\u001b[0;34m.\u001b[0m\u001b[0mbackward_prop\u001b[0m\u001b[0;34m(\u001b[0m\u001b[0mX\u001b[0m\u001b[0;34m[\u001b[0m\u001b[0mind\u001b[0m\u001b[0;34m:\u001b[0m\u001b[0mind\u001b[0m \u001b[0;34m+\u001b[0m \u001b[0mbatch_size\u001b[0m\u001b[0;34m]\u001b[0m\u001b[0;34m,\u001b[0m \u001b[0my\u001b[0m\u001b[0;34m[\u001b[0m\u001b[0mind\u001b[0m\u001b[0;34m:\u001b[0m\u001b[0mind\u001b[0m \u001b[0;34m+\u001b[0m \u001b[0mbatch_size\u001b[0m\u001b[0;34m]\u001b[0m\u001b[0;34m)\u001b[0m\u001b[0;34m\u001b[0m\u001b[0;34m\u001b[0m\u001b[0m\n\u001b[0;32m---> 94\u001b[0;31m             \u001b[0mself\u001b[0m\u001b[0;34m.\u001b[0m\u001b[0mforward_prop\u001b[0m\u001b[0;34m(\u001b[0m\u001b[0mX\u001b[0m\u001b[0;34m,\u001b[0m \u001b[0my\u001b[0m\u001b[0;34m)\u001b[0m\u001b[0;34m\u001b[0m\u001b[0;34m\u001b[0m\u001b[0m\n\u001b[0m\u001b[1;32m     95\u001b[0m \u001b[0;34m\u001b[0m\u001b[0m\n\u001b[1;32m     96\u001b[0m             \u001b[0mprint\u001b[0m\u001b[0;34m(\u001b[0m\u001b[0;34m\"Epoch {}: Loss {}\"\u001b[0m\u001b[0;34m.\u001b[0m\u001b[0mformat\u001b[0m\u001b[0;34m(\u001b[0m\u001b[0mepoch\u001b[0m\u001b[0;34m,\u001b[0m \u001b[0mself\u001b[0m\u001b[0;34m.\u001b[0m\u001b[0mloss\u001b[0m\u001b[0;34m)\u001b[0m\u001b[0;34m)\u001b[0m\u001b[0;34m\u001b[0m\u001b[0;34m\u001b[0m\u001b[0m\n",
      "\u001b[0;32m<ipython-input-105-ddaaa9c7154e>\u001b[0m in \u001b[0;36mforward_prop\u001b[0;34m(self, X, Y)\u001b[0m\n\u001b[1;32m     34\u001b[0m \u001b[0;34m\u001b[0m\u001b[0m\n\u001b[1;32m     35\u001b[0m \u001b[0;34m\u001b[0m\u001b[0m\n\u001b[0;32m---> 36\u001b[0;31m         \u001b[0mself\u001b[0m\u001b[0;34m.\u001b[0m\u001b[0mz1\u001b[0m \u001b[0;34m=\u001b[0m \u001b[0mself\u001b[0m\u001b[0;34m.\u001b[0m\u001b[0mw1\u001b[0m \u001b[0;34m@\u001b[0m \u001b[0mx\u001b[0m \u001b[0;34m+\u001b[0m \u001b[0mself\u001b[0m\u001b[0;34m.\u001b[0m\u001b[0mb1\u001b[0m\u001b[0;34m\u001b[0m\u001b[0;34m\u001b[0m\u001b[0m\n\u001b[0m\u001b[1;32m     37\u001b[0m         \u001b[0mself\u001b[0m\u001b[0;34m.\u001b[0m\u001b[0ma1\u001b[0m \u001b[0;34m=\u001b[0m \u001b[0mself\u001b[0m\u001b[0;34m.\u001b[0m\u001b[0mrelu\u001b[0m\u001b[0;34m(\u001b[0m\u001b[0mself\u001b[0m\u001b[0;34m.\u001b[0m\u001b[0mz1\u001b[0m\u001b[0;34m)\u001b[0m\u001b[0;34m\u001b[0m\u001b[0;34m\u001b[0m\u001b[0m\n\u001b[1;32m     38\u001b[0m \u001b[0;34m\u001b[0m\u001b[0m\n",
      "\u001b[0;31mKeyboardInterrupt\u001b[0m: "
     ]
    }
   ],
   "source": [
    "class CustomMLP:\n",
    "    \n",
    "    def __init__(self):\n",
    "        self.w1 = np.random.normal(size = (512, 784)) * np.sqrt(1 / 784)\n",
    "        self.b1 = np.random.normal(size = (512, 1))\n",
    "        self.w2 = np.random.normal(size = (256, 512))* np.sqrt(1 / 512)\n",
    "        self.b2 = np.random.normal(size = (256, 1))\n",
    "        self.w3 = np.random.normal(size = (10, 256)) * np.sqrt(1 / 256)\n",
    "        self.b3 = np.random.normal(size = (10, 1))\n",
    "        self.learning_rate = 0.01\n",
    "    \n",
    "    def relu(self, a):\n",
    "        a[a < 0] = 0\n",
    "        return a\n",
    "    \n",
    "    def relu_der(self, a):\n",
    "        j = np.empty_like(a)\n",
    "        j[a < 0] = 0\n",
    "        j[a > 0] = 1\n",
    "        \n",
    "        return j\n",
    "    \n",
    "    \n",
    "    def sigmoid(self, a):\n",
    "        j = np.empty_like(a)\n",
    "        j[a < 0] = np.exp(a[a < 0]) / (1 + np.exp(a[a < 0]))\n",
    "        j[a > 0] = 1 / (1 + np.exp(-a[a > 0]))\n",
    "        \n",
    "        return j\n",
    "    \n",
    "    def forward_prop(self, X, Y):\n",
    "        x = X.T\n",
    "        y = Y.T\n",
    "        \n",
    "                \n",
    "        self.z1 = self.w1 @ x + self.b1\n",
    "        self.a1 = self.relu(self.z1)\n",
    "        \n",
    "        self.z2 = self.w2 @ self.a1 + self.b2\n",
    "        self.a2 = self.relu(self.z2)\n",
    "        \n",
    "        self.z3 = self.w3 @ self.a2 + self.b3\n",
    "        self.a3 = self.sigmoid(self.z3)\n",
    "        \n",
    "        \n",
    "        # softmax\n",
    "#         p = np.exp(self.a3 - self.a3.max(axis = 0, keepdims = True))\n",
    "        p = np.exp(self.a3)\n",
    "#         print(p.shape)\n",
    "        self.p = p / p.sum(axis = 0, keepdims = True)\n",
    "#         print(np.log(self.p))\n",
    "        # Cross entropy loss\n",
    "#         print(np.log(self.p))\n",
    "        self.loss = np.mean(-y * np.log(self.p))\n",
    "    \n",
    "    def backward_prop(self, X, Y):\n",
    "        \n",
    "        x = X.T\n",
    "        y = Y.T\n",
    "        \n",
    "        # Backward propagation\n",
    "        dJ_dz3 = (self.p - y) * self.a3 * (1 - self.a3)\n",
    "        dJ_dw3 = dJ_dz3 @ self.a2.T\n",
    "        dJ_db3 = dJ_dz3\n",
    "        \n",
    "        dJ_dz2 = (self.w3.T @ dJ_dz3) * self.relu_der(self.z2)\n",
    "        dJ_dw2 = dJ_dz2 @ self.a1.T\n",
    "        dJ_db2 = dJ_dz2\n",
    "        \n",
    "        dJ_dz1 = (self.w2.T @ dJ_dz2) * self.relu_der(self.z1)\n",
    "        dJ_dw1 = dJ_dz1 @ x.T\n",
    "        dJ_db1 = dJ_dz1\n",
    "        \n",
    "        # Backpropagation step\n",
    "        self.w3 -= self.learning_rate * np.mean(dJ_dw3, axis = 1, keepdims = True)\n",
    "        self.b3 -= self.learning_rate * np.mean(dJ_db3, axis = 1, keepdims = True)\n",
    "        \n",
    "        self.w2 -= self.learning_rate * np.mean(dJ_dw2, axis = 1, keepdims = True)\n",
    "        self.b2 -= self.learning_rate * np.mean(dJ_db2, axis = 1, keepdims = True)\n",
    "        \n",
    "        self.w1 -= self.learning_rate * np.mean(dJ_dw1, axis = 1, keepdims = True)\n",
    "        self.b1 -= self.learning_rate * np.mean(dJ_db1, axis = 1, keepdims = True)\n",
    "        \n",
    "    \n",
    "    def train(self, X, y, batch_size = 32, epochs = 10):\n",
    "        N = X.shape[0]\n",
    "        losses = []\n",
    "        loss = 0\n",
    "        for epoch in range(epochs):\n",
    "            for ind in range(0, N, batch_size):\n",
    "                self.forward_prop(X[ind:ind + batch_size], y[ind:ind + batch_size])\n",
    "#                 print(self.loss)\n",
    "                self.backward_prop(X[ind:ind + batch_size], y[ind:ind + batch_size])\n",
    "            self.forward_prop(X, y)\n",
    "            \n",
    "            print(\"Epoch {}: Loss {}\".format(epoch, self.loss))\n",
    "            losses.append(self.loss)\n",
    "        \n",
    "k = CustomMLP()\n",
    "    \n",
    "k.train(X_train, y_t)"
   ]
  },
  {
   "cell_type": "markdown",
   "id": "ea6a1a1f",
   "metadata": {},
   "source": [
    "## Using pytorch to compute gradients"
   ]
  },
  {
   "cell_type": "code",
   "execution_count": 93,
   "id": "2f93dd5e",
   "metadata": {},
   "outputs": [],
   "source": [
    "import torch.nn as nn\n",
    "import torch.nn.functional as F\n",
    "# define NN architecture\n",
    "class Net(nn.Module):\n",
    "    def __init__(self):\n",
    "        super(Net,self).__init__()\n",
    "        # number of hidden nodes in each layer (512)\n",
    "        hidden_1 = 512\n",
    "        hidden_2 = 256\n",
    "        num_classes = 10\n",
    "        # linear layer (784 -> hidden_1)\n",
    "        self.fc1 = nn.Linear(28*28, hidden_1)\n",
    "        # linear layer (n_hidden -> hidden_2)\n",
    "        self.fc2 = nn.Linear(hidden_1,hidden_2)\n",
    "        # linear layer (n_hidden -> 10)\n",
    "        self.fc3 = nn.Linear(hidden_2, num_classes)\n",
    "        self.loss = nn.CrossEntropyLoss()\n",
    "        # dropout layer (p=0.2)\n",
    "        # dropout prevents overfitting of data\n",
    "        self.dropout = nn.Dropout(0.2)\n",
    "        \n",
    "    def forward(self,x, y):\n",
    "#         x = x.view(1, -1)\n",
    "        print(x.shape)\n",
    "        x = F.relu(self.fc1(x))\n",
    "        x = F.relu(self.fc2(x))\n",
    "        x = torch.sigmoid(self.fc3(x))\n",
    "#         p = torch.softmax(x, axis = 0)\n",
    "        print(y)\n",
    "        a = torch.LongTensor(y)\n",
    "        print(a.shape, \" a shape\")\n",
    "        print(x.shape, \" x shape\")\n",
    "#         print(p.shape, y.shape)\n",
    "        loss = self.loss(x, a)\n",
    "        loss.backward()\n",
    "#         cross_entropy_loss =\n",
    "        return loss\n",
    "\n",
    "    def backward(self):\n",
    "        for i in self.parameters():\n",
    "            print(type(i))\n",
    "            print(i.shape)\n",
    "    "
   ]
  },
  {
   "cell_type": "code",
   "execution_count": 16,
   "id": "93288dd8",
   "metadata": {},
   "outputs": [
    {
     "data": {
      "text/plain": [
       "5"
      ]
     },
     "execution_count": 16,
     "metadata": {},
     "output_type": "execute_result"
    }
   ],
   "source": [
    "y_train[i]"
   ]
  },
  {
   "cell_type": "code",
   "execution_count": 157,
   "id": "90b8ff8f",
   "metadata": {},
   "outputs": [
    {
     "data": {
      "text/plain": [
       "1.2433341903143396"
      ]
     },
     "execution_count": 157,
     "metadata": {},
     "output_type": "execute_result"
    }
   ],
   "source": [
    "a = np.array([0, 0, 1, 0])\n",
    "k = np.exp(a)\n",
    "k /= k.sum()\n",
    "(-np.log(k[3]) + 0.743)/ 2"
   ]
  },
  {
   "cell_type": "code",
   "execution_count": 151,
   "id": "212473cd",
   "metadata": {},
   "outputs": [
    {
     "name": "stdout",
     "output_type": "stream",
     "text": [
      "torch.Size([2, 4]) torch.Size([2])\n"
     ]
    },
    {
     "data": {
      "text/plain": [
       "tensor(1.2437)"
      ]
     },
     "execution_count": 151,
     "metadata": {},
     "output_type": "execute_result"
    }
   ],
   "source": [
    "\n",
    "output = torch.autograd.Variable(torch.FloatTensor([[0, 0, 0, 1], [0, 0, 1, 0]])).view(2, -1)\n",
    "target = torch.autograd.Variable(torch.LongTensor([3, 3]))\n",
    "loss = nn.CrossEntropyLoss()\n",
    "print(output.shape, target.shape)\n",
    "loss(output, target)"
   ]
  },
  {
   "cell_type": "code",
   "execution_count": 129,
   "id": "5240e0b4",
   "metadata": {},
   "outputs": [
    {
     "name": "stdout",
     "output_type": "stream",
     "text": [
      "torch.Size([128, 784])\n",
      "[5 0 4 1 9 2 1 3 1 4 3 5 3 6 1 7 2 8 6 9 4 0 9 1 1 2 4 3 2 7 3 8 6 9 0 5 6\n",
      " 0 7 6 1 8 7 9 3 9 8 5 9 3 3 0 7 4 9 8 0 9 4 1 4 4 6 0 4 5 6 1 0 0 1 7 1 6\n",
      " 3 0 2 1 1 7 9 0 2 6 7 8 3 9 0 4 6 7 4 6 8 0 7 8 3 1 5 7 1 7 1 1 6 3 0 2 9\n",
      " 3 1 1 0 4 9 2 0 0 2 0 2 7 1 8 6 4]\n",
      "torch.Size([128])  a shape\n",
      "torch.Size([128, 10])  x shape\n"
     ]
    },
    {
     "data": {
      "text/plain": [
       "tensor(2.3022, grad_fn=<NllLossBackward>)"
      ]
     },
     "execution_count": 129,
     "metadata": {},
     "output_type": "execute_result"
    }
   ],
   "source": [
    "net = Net()\n",
    "import torch\n",
    "a = torch.tensor(X_train).type(torch.FloatTensor)\n",
    "i = 0\n",
    "# print(a[i].shape)\n",
    "# print(y_train.shape)\n",
    "batch = 128\n",
    "net.forward(a[:batch], y_train[:batch])"
   ]
  },
  {
   "cell_type": "code",
   "execution_count": 130,
   "id": "dc1f827a",
   "metadata": {},
   "outputs": [
    {
     "name": "stdout",
     "output_type": "stream",
     "text": [
      "<class 'torch.nn.parameter.Parameter'>\n",
      "torch.Size([512, 784])\n",
      "<class 'torch.nn.parameter.Parameter'>\n",
      "torch.Size([512])\n",
      "<class 'torch.nn.parameter.Parameter'>\n",
      "torch.Size([256, 512])\n",
      "<class 'torch.nn.parameter.Parameter'>\n",
      "torch.Size([256])\n",
      "<class 'torch.nn.parameter.Parameter'>\n",
      "torch.Size([10, 256])\n",
      "<class 'torch.nn.parameter.Parameter'>\n",
      "torch.Size([10])\n"
     ]
    }
   ],
   "source": [
    "net.backward()"
   ]
  },
  {
   "cell_type": "markdown",
   "id": "e0ba8b76",
   "metadata": {},
   "source": [
    "### Computing own gradients using the same parameters"
   ]
  },
  {
   "cell_type": "code",
   "execution_count": 131,
   "id": "18630675",
   "metadata": {},
   "outputs": [],
   "source": [
    "parameters = []\n",
    "for i in net.parameters():\n",
    "    parameters.append(i.detach().numpy())\n"
   ]
  },
  {
   "cell_type": "code",
   "execution_count": 132,
   "id": "2006be04",
   "metadata": {},
   "outputs": [
    {
     "name": "stdout",
     "output_type": "stream",
     "text": [
      "(512, 784)\n"
     ]
    }
   ],
   "source": [
    "print(parameters[0].shape)"
   ]
  },
  {
   "cell_type": "code",
   "execution_count": 200,
   "id": "f2c72f5b",
   "metadata": {},
   "outputs": [],
   "source": [
    "class ModifiedMLP(CustomMLP):\n",
    "    \n",
    "    def __init__(self):\n",
    "        parameters = []\n",
    "        for i in net.parameters():\n",
    "            parameters.append(i.detach().numpy())\n",
    "        self.w1 = parameters[0]\n",
    "        self.b1 = parameters[1].reshape(-1, 1)\n",
    "        self.w2 = parameters[2]\n",
    "        self.b2 = parameters[3].reshape(-1, 1)\n",
    "        self.w3 = parameters[4]\n",
    "        self.b3 = parameters[5].reshape(-1, 1)\n",
    "        self.learning_rate = 0.01\n",
    "    \n",
    "    def relu(self, a):\n",
    "        a[a < 0] = 0\n",
    "        return a\n",
    "    \n",
    "    def relu_der(self, a):\n",
    "        j = np.empty_like(a)\n",
    "        j[a < 0] = 0\n",
    "        j[a > 0] = 1\n",
    "        \n",
    "        return j\n",
    "    \n",
    "    \n",
    "    def sigmoid(self, a):\n",
    "        j = np.empty_like(a)\n",
    "        j[a < 0] = np.exp(a[a < 0]) / (1 + np.exp(a[a < 0]))\n",
    "        j[a > 0] = 1 / (1 + np.exp(-a[a > 0]))\n",
    "        \n",
    "        return j\n",
    "    \n",
    "    def forward_prop(self, X, Y):\n",
    "        x = X.T\n",
    "        y = Y.T\n",
    "        \n",
    "                \n",
    "        self.z1 = self.w1 @ x + self.b1\n",
    "        self.a1 = self.relu(self.z1)\n",
    "        \n",
    "        self.z2 = self.w2 @ self.a1 + self.b2\n",
    "        self.a2 = self.relu(self.z2)\n",
    "        \n",
    "        self.z3 = self.w3 @ self.a2 + self.b3\n",
    "        self.a3 = self.sigmoid(self.z3)\n",
    "        \n",
    "        \n",
    "        p = np.exp(self.a3)\n",
    "        self.p = p / p.sum(axis = 0, keepdims = True)\n",
    "        self.loss = np.mean(-y * np.log(self.p))\n",
    "    \n",
    "    def backward_prop(self, X, Y):\n",
    "        \n",
    "        dJ_dw1, dJ_db1, dJ_dw2, dJ_db2, dJ_dw3, dJ_db3 = self.compute_gradients(X, Y)\n",
    "        \n",
    "        # Backpropagation step\n",
    "        self.w3 -= self.learning_rate * dJ_dw3\n",
    "        self.b3 -= self.learning_rate * dJ_db3\n",
    "        \n",
    "        self.w2 -= self.learning_rate * dJ_dw2\n",
    "        self.b2 -= self.learning_rate * dJ_db2\n",
    "        \n",
    "        self.w1 -= self.learning_rate * dJ_dw1\n",
    "        self.b1 -= self.learning_rate * dJ_db1\n",
    "        \n",
    "    def compute_gradients(self, X, Y):\n",
    "        x = X.T\n",
    "        y = Y.T\n",
    "        \n",
    "        # Backward propagation\n",
    "#         print(self.p.shape, y.shape, self.a3.shape)\n",
    "        _, batch_size = self.p.shape\n",
    "        dJ_dz3 = (self.p - y) * self.a3 * (1 - self.a3)\n",
    "        dJ_dw3 = dJ_dz3 @ self.a2.T / batch_size\n",
    "        dJ_db3 = np.mean(dJ_dz3, axis = 1, keepdims = True)\n",
    "        \n",
    "        dJ_dz2 = (self.w3.T @ dJ_dz3) * self.relu_der(self.z2)\n",
    "        dJ_dw2 = dJ_dz2 @ self.a1.T / batch_size\n",
    "        dJ_db2 = np.mean(dJ_dz2, axis = 1, keepdims = True)\n",
    "        \n",
    "        dJ_dz1 = (self.w2.T @ dJ_dz2) * self.relu_der(self.z1)\n",
    "        dJ_dw1 = dJ_dz1 @ x.T / batch_size\n",
    "        dJ_db1 = np.mean(dJ_dz1, axis = 1, keepdims = True)\n",
    "        \n",
    "        return [dJ_dw1, dJ_db1, dJ_dw2, dJ_db2, dJ_dw3, dJ_db3]\n",
    "        \n",
    "        \n",
    "        p = list(net.parameters())\n",
    "        \n",
    "        print(\"Difference in gradient computation : \")\n",
    "        \n",
    "        print(\"Layer 3:\")\n",
    "        print(dJ_dw3.shape)\n",
    "        \n",
    "        print(np.linalg.norm(dJ_dw3 - p[-2].grad.detach().numpy()))\n",
    "        print(np.linalg.norm(dJ_db3 - p[-1].grad.detach().numpy()))\n",
    "        \n",
    "        print(\"Layer 2:\")\n",
    "        print(np.linalg.norm(dJ_dw2 - p[-4].grad.detach().numpy()))\n",
    "        print(np.linalg.norm(dJ_db2 - p[-3].grad.detach().numpy()))\n",
    "        \n",
    "        print(\"Layer 1:\")\n",
    "        print(np.linalg.norm(dJ_dw1 - p[-6].grad.detach().numpy()))\n",
    "        print(np.linalg.norm(dJ_db1 - p[-5].grad.detach().numpy()))\n",
    "        \n",
    "        \n",
    "    \n",
    "    def train(self, X, y, batch_size = 512, epochs = 2):\n",
    "        N = X.shape[0]\n",
    "        losses = []\n",
    "        loss = 0\n",
    "        for epoch in range(epochs):\n",
    "            for ind in range(0, N, batch_size):\n",
    "                self.forward_prop(X[ind:ind + batch_size], y[ind:ind + batch_size])\n",
    "                self.backward_prop(X[ind:ind + batch_size], y[ind:ind + batch_size])\n",
    "            self.forward_prop(X, y)\n",
    "            \n",
    "            print(\"Epoch {}: Loss {}\".format(epoch, self.loss))\n",
    "            losses.append(self.loss)\n",
    "        return losses\n",
    "        \n",
    "k = ModifiedMLP()\n",
    "# batch = 128\n",
    "k.forward_prop(X_train[:batch], y_t[:batch])\n",
    "    \n",
    "# k.compute_gradients(X_train[:batch], y_t[:batch])\n",
    "# k.backward_prop(X_train[:batch], y_t[:batch])"
   ]
  },
  {
   "cell_type": "code",
   "execution_count": 201,
   "id": "1c03d7f1",
   "metadata": {},
   "outputs": [
    {
     "name": "stdout",
     "output_type": "stream",
     "text": [
      "Epoch 0: Loss 0.2269845671344183\n",
      "Epoch 1: Loss 0.22315153966197462\n",
      "Epoch 2: Loss 0.2192314348852415\n",
      "Epoch 3: Loss 0.21520774925705313\n",
      "Epoch 4: Loss 0.21099740707817727\n",
      "Epoch 5: Loss 0.20667621225295071\n",
      "Epoch 6: Loss 0.20243686035628236\n",
      "Epoch 7: Loss 0.1984521832290408\n",
      "Epoch 8: Loss 0.19481867135507672\n",
      "Epoch 9: Loss 0.1915555606929262\n",
      "Epoch 10: Loss 0.1887843275942298\n",
      "Epoch 11: Loss 0.1864194991330541\n",
      "Epoch 12: Loss 0.1843873537781286\n",
      "Epoch 13: Loss 0.18263453179182476\n",
      "Epoch 14: Loss 0.1811110458082343\n",
      "Epoch 15: Loss 0.17977924983634366\n",
      "Epoch 16: Loss 0.17860165264667863\n",
      "Epoch 17: Loss 0.17754989264914675\n",
      "Epoch 18: Loss 0.17660326440286617\n",
      "Epoch 19: Loss 0.17574450776923536\n",
      "CPU times: user 3min 30s, sys: 29 s, total: 3min 59s\n",
      "Wall time: 2min 36s\n"
     ]
    }
   ],
   "source": [
    "%%time\n",
    "losses = k.train(X_train, y_t, epochs = 20)"
   ]
  },
  {
   "cell_type": "code",
   "execution_count": 203,
   "id": "0d4a2480",
   "metadata": {},
   "outputs": [
    {
     "data": {
      "text/plain": [
       "<matplotlib.collections.PathCollection at 0x7fe18a433d10>"
      ]
     },
     "execution_count": 203,
     "metadata": {},
     "output_type": "execute_result"
    },
    {
     "data": {
      "image/png": "[encoded data removed]",
      "text/plain": [
       "<Figure size 432x288 with 1 Axes>"
      ]
     },
     "metadata": {
      "needs_background": "light"
     },
     "output_type": "display_data"
    }
   ],
   "source": [
    "plt.plot(np.arange(len(losses)), losses)\n",
    "plt.scatter(np.arange(len(losses)), losses)\n"
   ]
  },
  {
   "cell_type": "code",
   "execution_count": null,
   "id": "f38e42ef",
   "metadata": {},
   "outputs": [],
   "source": []
  }
 ],
 "metadata": {
  "kernelspec": {
   "display_name": "ML",
   "language": "python",
   "name": "ml"
  },
  "language_info": {
   "codemirror_mode": {
    "name": "ipython",
    "version": 3
   },
   "file_extension": ".py",
   "mimetype": "text/x-python",
   "name": "python",
   "nbconvert_exporter": "python",
   "pygments_lexer": "ipython3",
   "version": "3.11.3"
  }
 },
 "nbformat": 4,
 "nbformat_minor": 5
}
