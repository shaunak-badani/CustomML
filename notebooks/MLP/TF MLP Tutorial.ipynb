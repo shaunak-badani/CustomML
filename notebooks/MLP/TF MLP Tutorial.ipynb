{
 "cells": [
  {
   "cell_type": "code",
   "execution_count": 1,
   "id": "d503fb61",
   "metadata": {},
   "outputs": [
    {
     "name": "stderr",
     "output_type": "stream",
     "text": [
      "Using TensorFlow backend.\n"
     ]
    }
   ],
   "source": [
    "import keras\n",
    "from sklearn.preprocessing import LabelBinarizer\n",
    "import matplotlib.pyplot as plt\n",
    "%matplotlib inline"
   ]
  },
  {
   "cell_type": "code",
   "execution_count": 2,
   "id": "4ef9f06e",
   "metadata": {},
   "outputs": [],
   "source": [
    "def load_dataset(flatten=False):\n",
    "    (X_train, y_train), (X_test, y_test) = keras.datasets.mnist.load_data()\n",
    "    # normalize x\n",
    "    X_train = X_train.astype(float) / 255.\n",
    "    X_test = X_test.astype(float) / 255.\n",
    "    # we reserve the last 10000 training examples for validation\n",
    "    X_train, X_val = X_train[:-10000], X_train[-10000:]\n",
    "    y_train, y_val = y_train[:-10000], y_train[-10000:]\n",
    "    if flatten:\n",
    "        X_train = X_train.reshape([X_train.shape[0], -1])\n",
    "        X_val = X_val.reshape([X_val.shape[0], -1])\n",
    "        X_test = X_test.reshape([X_test.shape[0], -1])\n",
    "    return X_train, y_train, X_val, y_val, X_test, y_test"
   ]
  },
  {
   "cell_type": "code",
   "execution_count": 5,
   "id": "e8d6942d",
   "metadata": {},
   "outputs": [],
   "source": [
    "X_train, y_train, X_val, y_val, X_test, y_test = load_dataset()\n"
   ]
  },
  {
   "cell_type": "code",
   "execution_count": 9,
   "id": "661d11af",
   "metadata": {},
   "outputs": [
    {
     "name": "stdout",
     "output_type": "stream",
     "text": [
      "(50000, 28, 28) (50000,)\n"
     ]
    },
    {
     "data": {
      "image/png": "[encoded data removed]",
      "text/plain": [
       "<Figure size 432x288 with 1 Axes>"
      ]
     },
     "metadata": {
      "needs_background": "light"
     },
     "output_type": "display_data"
    }
   ],
   "source": [
    "## Printing dimensions\n",
    "print(X_train.shape, y_train.shape)\n",
    "## Visualizing the first digit\n",
    "plt.imshow(X_train[2], cmap=\"Greys\")"
   ]
  },
  {
   "cell_type": "code",
   "execution_count": 10,
   "id": "6454c3ce",
   "metadata": {},
   "outputs": [],
   "source": [
    "X_train_flattened = X_train.reshape((X_train.shape[0],X_train.shape[1]*X_train.shape[2]))\n",
    "X_test_flattened = X_test.reshape((X_test.shape[0],X_test.shape[1]*X_test.shape[2]))"
   ]
  },
  {
   "cell_type": "code",
   "execution_count": 11,
   "id": "99945904",
   "metadata": {},
   "outputs": [
    {
     "name": "stdout",
     "output_type": "stream",
     "text": [
      "Train dimension:\n",
      "(50000, 784)\n",
      "Test dimension:\n",
      "(10000, 784)\n"
     ]
    }
   ],
   "source": [
    "print('Train dimension:');print(X_train_flattened.shape)\n",
    "print('Test dimension:');print(X_test_flattened.shape)"
   ]
  },
  {
   "cell_type": "code",
   "execution_count": 12,
   "id": "1dfafa49",
   "metadata": {},
   "outputs": [
    {
     "name": "stdout",
     "output_type": "stream",
     "text": [
      "[5 0 4 ... 8 4 8]\n"
     ]
    }
   ],
   "source": [
    "print(y_train)"
   ]
  },
  {
   "cell_type": "code",
   "execution_count": 13,
   "id": "e1305c3a",
   "metadata": {},
   "outputs": [],
   "source": [
    "lb = LabelBinarizer()"
   ]
  },
  {
   "cell_type": "code",
   "execution_count": 14,
   "id": "e7e3f11f",
   "metadata": {},
   "outputs": [
    {
     "data": {
      "text/plain": [
       "LabelBinarizer()"
      ]
     },
     "execution_count": 14,
     "metadata": {},
     "output_type": "execute_result"
    }
   ],
   "source": [
    "lb"
   ]
  },
  {
   "cell_type": "code",
   "execution_count": 15,
   "id": "f093c3eb",
   "metadata": {},
   "outputs": [],
   "source": [
    "y_train = lb.fit_transform(y_train)"
   ]
  },
  {
   "cell_type": "code",
   "execution_count": 16,
   "id": "63402ffa",
   "metadata": {},
   "outputs": [],
   "source": [
    "y_test = lb.transform(y_test)"
   ]
  },
  {
   "cell_type": "code",
   "execution_count": 17,
   "id": "bd1cc894",
   "metadata": {},
   "outputs": [
    {
     "name": "stdout",
     "output_type": "stream",
     "text": [
      "Train labels dimension:\n",
      "(50000, 10)\n",
      "Test labels dimension:\n",
      "(10000, 10)\n"
     ]
    }
   ],
   "source": [
    "print('Train labels dimension:');print(y_train.shape)\n",
    "print('Test labels dimension:');print(y_test.shape)"
   ]
  },
  {
   "cell_type": "code",
   "execution_count": 20,
   "id": "bb1fedf4",
   "metadata": {},
   "outputs": [],
   "source": [
    "import numpy as np\n",
    "import tensorflow as tf\n",
    "from sklearn.metrics import roc_auc_score, accuracy_score\n",
    "s = tf.compat.v1.InteractiveSession()"
   ]
  },
  {
   "cell_type": "code",
   "execution_count": 39,
   "id": "a07a3806",
   "metadata": {},
   "outputs": [],
   "source": [
    "## Defining various initialization parameters for 784-512-256-10 MLP model\n",
    "num_classes = y_train.shape[1]\n",
    "num_features = X_train_flattened.shape[1]\n",
    "num_output = y_train.shape[1]\n",
    "num_layers_0 = 512\n",
    "num_layers_1 = 256\n",
    "starter_learning_rate = 0.001\n",
    "regularizer_rate = 0.1"
   ]
  },
  {
   "cell_type": "code",
   "execution_count": 40,
   "id": "646b2288",
   "metadata": {},
   "outputs": [],
   "source": [
    "import tensorflow.compat.v1 as tf\n",
    "tf.disable_v2_behavior() "
   ]
  },
  {
   "cell_type": "code",
   "execution_count": 41,
   "id": "a84a786c",
   "metadata": {},
   "outputs": [
    {
     "data": {
      "text/plain": [
       "784"
      ]
     },
     "execution_count": 41,
     "metadata": {},
     "output_type": "execute_result"
    }
   ],
   "source": [
    "num_features"
   ]
  },
  {
   "cell_type": "code",
   "execution_count": 42,
   "id": "e39e0fbc",
   "metadata": {},
   "outputs": [],
   "source": [
    "input_X = tf.placeholder('float32',shape =(None,num_features),name=\"input_X\")\n"
   ]
  },
  {
   "cell_type": "code",
   "execution_count": 43,
   "id": "747ad4c8",
   "metadata": {},
   "outputs": [],
   "source": [
    "input_y = tf.placeholder('float32',shape = (None,num_classes),name='input_Y')\n",
    "## for dropout layer\n",
    "keep_prob = tf.placeholder(tf.float32)"
   ]
  },
  {
   "cell_type": "code",
   "execution_count": 44,
   "id": "23fa4421",
   "metadata": {},
   "outputs": [],
   "source": [
    "## Weights initialized by random normal function with std_dev = 1/sqrt(number of input features)\n",
    "weights_0 = tf.Variable(tf.random_normal([num_features,num_layers_0], stddev=(1/tf.sqrt(float(num_features)))))\n",
    "bias_0 = tf.Variable(tf.random_normal([num_layers_0]))\n",
    "weights_1 = tf.Variable(tf.random_normal([num_layers_0,num_layers_1], stddev=(1/tf.sqrt(float(num_layers_0)))))\n",
    "bias_1 = tf.Variable(tf.random_normal([num_layers_1]))\n",
    "weights_2 = tf.Variable(tf.random_normal([num_layers_1,num_output], stddev=(1/tf.sqrt(float(num_layers_1)))))\n",
    "bias_2 = tf.Variable(tf.random_normal([num_output]))"
   ]
  },
  {
   "cell_type": "code",
   "execution_count": 45,
   "id": "b841c367",
   "metadata": {},
   "outputs": [],
   "source": [
    "## Initializing weigths and biases\n",
    "hidden_output_0 = tf.nn.relu(tf.matmul(input_X,weights_0)+bias_0)\n",
    "hidden_output_0_0 = tf.nn.dropout(hidden_output_0, keep_prob)\n",
    "hidden_output_1 = tf.nn.relu(tf.matmul(hidden_output_0_0,weights_1)+bias_1)\n",
    "hidden_output_1_1 = tf.nn.dropout(hidden_output_1, keep_prob)\n",
    "predicted_y = tf.sigmoid(tf.matmul(hidden_output_1_1,weights_2) + bias_2)"
   ]
  },
  {
   "cell_type": "code",
   "execution_count": 46,
   "id": "b5363cec",
   "metadata": {},
   "outputs": [],
   "source": [
    "## Defining the loss function\n",
    "loss = tf.reduce_mean(tf.nn.softmax_cross_entropy_with_logits_v2(logits=predicted_y,labels=input_y)) \\\n",
    "        + regularizer_rate*(tf.reduce_sum(tf.square(bias_0)) + tf.reduce_sum(tf.square(bias_1)))"
   ]
  },
  {
   "cell_type": "code",
   "execution_count": 47,
   "id": "54919cb1",
   "metadata": {},
   "outputs": [],
   "source": [
    "## Variable learning rate\n",
    "learning_rate = tf.train.exponential_decay(starter_learning_rate, 0, 5, 0.85, staircase=True)\n",
    "## Adam optimzer for finding the right weight\n",
    "optimizer = tf.train.AdamOptimizer(learning_rate).minimize(loss,var_list=[weights_0,weights_1,weights_2,\n",
    "                                                                         bias_0,bias_1,bias_2])"
   ]
  },
  {
   "cell_type": "code",
   "execution_count": 48,
   "id": "e5096342",
   "metadata": {},
   "outputs": [],
   "source": [
    "## Metrics definition\n",
    "correct_prediction = tf.equal(tf.argmax(y_train,1), tf.argmax(predicted_y,1))\n",
    "accuracy = tf.reduce_mean(tf.cast(correct_prediction, tf.float32))"
   ]
  },
  {
   "cell_type": "code",
   "execution_count": 50,
   "id": "c3855c54",
   "metadata": {},
   "outputs": [
    {
     "name": "stdout",
     "output_type": "stream",
     "text": [
      "Epoch:0, Train loss: 45.17 Train acc: 0.935, Test acc:0.935\n",
      "Epoch:1, Train loss: 25.48 Train acc: 0.955, Test acc:0.954\n",
      "Epoch:2, Train loss: 14.56 Train acc: 0.965, Test acc:0.961\n",
      "Epoch:3, Train loss: 8.50 Train acc: 0.970, Test acc:0.965\n",
      "Epoch:4, Train loss: 5.15 Train acc: 0.978, Test acc:0.971\n",
      "Epoch:5, Train loss: 3.34 Train acc: 0.981, Test acc:0.973\n",
      "Epoch:6, Train loss: 2.39 Train acc: 0.983, Test acc:0.974\n",
      "Epoch:7, Train loss: 1.90 Train acc: 0.984, Test acc:0.974\n",
      "Epoch:8, Train loss: 1.66 Train acc: 0.987, Test acc:0.977\n",
      "Epoch:9, Train loss: 1.55 Train acc: 0.988, Test acc:0.979\n",
      "Epoch:10, Train loss: 1.50 Train acc: 0.988, Test acc:0.979\n",
      "Epoch:11, Train loss: 1.48 Train acc: 0.990, Test acc:0.980\n",
      "Epoch:12, Train loss: 1.47 Train acc: 0.989, Test acc:0.978\n",
      "Epoch:13, Train loss: 1.47 Train acc: 0.990, Test acc:0.978\n"
     ]
    }
   ],
   "source": [
    "## Training parameters\n",
    "batch_size = 128\n",
    "epochs=14\n",
    "dropout_prob = 0.6\n",
    "training_accuracy = []\n",
    "training_loss = []\n",
    "testing_accuracy = []\n",
    "s.run(tf.global_variables_initializer())\n",
    "for epoch in range(epochs):    \n",
    "    arr = np.arange(X_train.shape[0])\n",
    "    np.random.shuffle(arr)\n",
    "    for index in range(0,X_train_flattened.shape[0],batch_size):\n",
    "        s.run(optimizer, {input_X: X_train_flattened[arr[index:index+batch_size]],\n",
    "                          input_y: y_train[arr[index:index+batch_size]],\n",
    "                        keep_prob:dropout_prob})\n",
    "    training_accuracy.append(s.run(accuracy, feed_dict= {input_X:X_train_flattened, \n",
    "                                                         input_y: y_train,keep_prob:1}))\n",
    "    training_loss.append(s.run(loss, {input_X: X_train_flattened, \n",
    "                                      input_y: y_train,keep_prob:1}))\n",
    "    \n",
    "    ## Evaluation of model\n",
    "    testing_accuracy.append(accuracy_score(y_test.argmax(1), \n",
    "                            s.run(predicted_y, {input_X: X_test_flattened,keep_prob:1}).argmax(1)))\n",
    "    print(\"Epoch:{0}, Train loss: {1:.2f} Train acc: {2:.3f}, Test acc:{3:.3f}\".format(epoch,\n",
    "                                                                    training_loss[epoch],\n",
    "                                                                    training_accuracy[epoch],\n",
    "                                                                   testing_accuracy[epoch]))"
   ]
  },
  {
   "cell_type": "code",
   "execution_count": 51,
   "id": "f9c33234",
   "metadata": {},
   "outputs": [
    {
     "data": {
      "image/png": "[encoded data removed]",
      "text/plain": [
       "<Figure size 432x288 with 1 Axes>"
      ]
     },
     "metadata": {
      "needs_background": "light"
     },
     "output_type": "display_data"
    },
    {
     "name": "stdout",
     "output_type": "stream",
     "text": [
      "Train Accuracy: 0.99\n",
      "Test Accuracy:0.98\n"
     ]
    }
   ],
   "source": [
    "## Plotting chart of training and testing accuracy as a function of iterations\n",
    "iterations = list(range(epochs))\n",
    "plt.plot(iterations, training_accuracy, label='Train')\n",
    "plt.plot(iterations, testing_accuracy, label='Test')\n",
    "plt.ylabel('Accuracy')\n",
    "plt.xlabel('iterations')\n",
    "plt.show()\n",
    "print(\"Train Accuracy: {0:.2f}\".format(training_accuracy[-1]))\n",
    "print(\"Test Accuracy:{0:.2f}\".format(testing_accuracy[-1]))"
   ]
  },
  {
   "cell_type": "code",
   "execution_count": 54,
   "id": "f060e5db",
   "metadata": {},
   "outputs": [],
   "source": [
    "predicted_labels = s.run(predicted_y, feed_dict = {input_X : X_test_flattened, keep_prob:dropout_prob})"
   ]
  },
  {
   "cell_type": "code",
   "execution_count": 55,
   "id": "22f5b886",
   "metadata": {},
   "outputs": [],
   "source": [
    "predicted_values = np.argmax(predicted_labels, axis = 1)"
   ]
  },
  {
   "cell_type": "code",
   "execution_count": 78,
   "id": "51ac4c2f",
   "metadata": {},
   "outputs": [
    {
     "data": {
      "image/png": "[encoded data removed]",
      "text/plain": [
       "<Figure size 720x360 with 15 Axes>"
      ]
     },
     "metadata": {},
     "output_type": "display_data"
    }
   ],
   "source": [
    "fig, axes = plt.subplots(nrows = 3, ncols = 5, figsize = (10, 5))\n",
    "# print(axes)\n",
    "for i, ax in enumerate(axes.flatten()):\n",
    "#     ax.add_subplot(3, 5, i)\n",
    "    ax.imshow(X_test[i], cmap = \"gray\")\n",
    "    _ = ax.set_title(\"Pred : {}\".format(str(predicted_values[i])))\n",
    "    ax.set_xticks([])\n",
    "    ax.set_yticks([])    "
   ]
  }
 ],
 "metadata": {
  "kernelspec": {
   "display_name": "ML",
   "language": "python",
   "name": "ml"
  },
  "language_info": {
   "codemirror_mode": {
    "name": "ipython",
    "version": 3
   },
   "file_extension": ".py",
   "mimetype": "text/x-python",
   "name": "python",
   "nbconvert_exporter": "python",
   "pygments_lexer": "ipython3",
   "version": "3.11.3"
  }
 },
 "nbformat": 4,
 "nbformat_minor": 5
}
