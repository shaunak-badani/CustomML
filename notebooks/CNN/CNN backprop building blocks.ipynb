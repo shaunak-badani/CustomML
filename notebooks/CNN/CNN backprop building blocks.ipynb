{
 "cells": [
  {
   "cell_type": "code",
   "execution_count": 1,
   "id": "302f714b",
   "metadata": {},
   "outputs": [],
   "source": [
    "import torchvision\n",
    "import torch\n",
    "import torch.nn as nn\n",
    "\n",
    "import matplotlib.pyplot as plt\n",
    "import numpy as np"
   ]
  },
  {
   "cell_type": "markdown",
   "id": "1f9ab0ba",
   "metadata": {},
   "source": [
    "### Torch implementation of conv 2d"
   ]
  },
  {
   "cell_type": "code",
   "execution_count": 2,
   "id": "b08e41da",
   "metadata": {},
   "outputs": [],
   "source": [
    "C_out = 2\n",
    "C_in = 3\n",
    "K = 3\n",
    "stride = 1\n",
    "W = 32\n",
    "H = 32\n",
    "# With square kernels and equal stride\n",
    "m = nn.Conv2d(C_in, C_out, K, stride=stride, bias = False)\n",
    "# non-square kernels and unequal stride and with padding\n",
    "# m = nn.Conv2d(16, 33, (3, 5), stride=(2, 1), padding=(4, 2))\n",
    "# non-square kernels and unequal stride and with padding and dilation\n",
    "# m = nn.Conv2d(16, 33, (3, 5), stride=(2, 1), padding=(4, 2), dilation=(3, 1))\n",
    "\n",
    "test_input = torch.randn(1, C_in, W, H)\n",
    "output = m(test_input)"
   ]
  },
  {
   "cell_type": "code",
   "execution_count": 3,
   "id": "d5ec0248",
   "metadata": {},
   "outputs": [
    {
     "data": {
      "text/plain": [
       "torch.Size([1, 2, 30, 30])"
      ]
     },
     "execution_count": 3,
     "metadata": {},
     "output_type": "execute_result"
    }
   ],
   "source": [
    "output.shape"
   ]
  },
  {
   "cell_type": "code",
   "execution_count": 4,
   "id": "d3d2527c",
   "metadata": {},
   "outputs": [
    {
     "data": {
      "text/plain": [
       "torch.Size([1, 3, 32, 32])"
      ]
     },
     "execution_count": 4,
     "metadata": {},
     "output_type": "execute_result"
    }
   ],
   "source": [
    "test_input.shape"
   ]
  },
  {
   "cell_type": "markdown",
   "id": "874f6536",
   "metadata": {},
   "source": [
    "### Testing if the code implemented in Pavan sir's class is the same as conv2d"
   ]
  },
  {
   "cell_type": "code",
   "execution_count": 5,
   "id": "7ae34e1f",
   "metadata": {},
   "outputs": [],
   "source": [
    "image = test_input[0].detach().numpy()\n",
    "C, W, H = image.shape\n",
    "D = np.array([C_in * K * K, C_out])\n",
    "L = D.size\n",
    "\n",
    "w0 = [np.random.random(size = (D[d_l], D[d_l + 1])) for d_l in range(L - 1)]\n",
    "w = next(iter(m.parameters())).detach().numpy()\n",
    "Y = np.zeros(shape = (C_out, W - K + 1, H - K + 1))"
   ]
  },
  {
   "cell_type": "code",
   "execution_count": 6,
   "id": "668a1f5b",
   "metadata": {},
   "outputs": [
    {
     "data": {
      "text/plain": [
       "(1, (27, 2))"
      ]
     },
     "execution_count": 6,
     "metadata": {},
     "output_type": "execute_result"
    }
   ],
   "source": [
    "len(w0), w0[0].shape"
   ]
  },
  {
   "cell_type": "code",
   "execution_count": 7,
   "id": "316d5981",
   "metadata": {},
   "outputs": [
    {
     "data": {
      "text/plain": [
       "(2, 3, 3, 3)"
      ]
     },
     "execution_count": 7,
     "metadata": {},
     "output_type": "execute_result"
    }
   ],
   "source": [
    "w.shape"
   ]
  },
  {
   "cell_type": "code",
   "execution_count": 8,
   "id": "dd06bfd1",
   "metadata": {},
   "outputs": [],
   "source": [
    "for C_j in range(C_out):\n",
    "    for x in range(W - K + 1):\n",
    "        for y in range(H - K + 1):\n",
    "                for i in range(C_in):\n",
    "                    Y[C_j][x][y] = np.sum(w[C_j] * image[:, x:x + K, y:y + K])"
   ]
  },
  {
   "cell_type": "code",
   "execution_count": 9,
   "id": "ed7bb157",
   "metadata": {},
   "outputs": [
    {
     "name": "stdout",
     "output_type": "stream",
     "text": [
      "torch.Size([2, 3, 3, 3])\n"
     ]
    }
   ],
   "source": [
    "for weight in m.parameters():\n",
    "    print(weight.shape)"
   ]
  },
  {
   "cell_type": "code",
   "execution_count": 10,
   "id": "04b16f4f",
   "metadata": {},
   "outputs": [
    {
     "data": {
      "text/plain": [
       "(2, 30, 30)"
      ]
     },
     "execution_count": 10,
     "metadata": {},
     "output_type": "execute_result"
    }
   ],
   "source": [
    "Y.shape"
   ]
  },
  {
   "cell_type": "code",
   "execution_count": 11,
   "id": "bbf83296",
   "metadata": {},
   "outputs": [],
   "source": [
    "output_pytorch = output.detach().numpy()"
   ]
  },
  {
   "cell_type": "code",
   "execution_count": 12,
   "id": "60b1e33e",
   "metadata": {},
   "outputs": [
    {
     "data": {
      "text/plain": [
       "2.408518301046687e-06"
      ]
     },
     "execution_count": 12,
     "metadata": {},
     "output_type": "execute_result"
    }
   ],
   "source": [
    "np.linalg.norm(Y - output_pytorch)"
   ]
  },
  {
   "cell_type": "markdown",
   "id": "c0facfe6",
   "metadata": {},
   "source": [
    "### Macrograding CNNs"
   ]
  },
  {
   "cell_type": "code",
   "execution_count": 2,
   "id": "4f77a4a7",
   "metadata": {},
   "outputs": [
    {
     "data": {
      "text/plain": [
       "False"
      ]
     },
     "execution_count": 2,
     "metadata": {},
     "output_type": "execute_result"
    }
   ],
   "source": [
    "(8,2,4) == (8,3,4)"
   ]
  },
  {
   "cell_type": "code",
   "execution_count": 123,
   "id": "96d63b6c",
   "metadata": {},
   "outputs": [],
   "source": [
    "class Value:\n",
    "    \n",
    "    def __init__(self, data, _children = (), _op='', label = ''):\n",
    "        self.data = data\n",
    "        self._prev = set(_children)\n",
    "        self._op = _op\n",
    "        self.label = label\n",
    "        self._backward = lambda: None\n",
    "        self.grad = np.zeros_like(self.data, dtype = np.float64)\n",
    "    \n",
    "    def sum(self):\n",
    "        out = Value(self.data.sum(keepdims = True), (self, ), 'sum')\n",
    "        \n",
    "        def _backward():\n",
    "            # for each element of the gradient array,\n",
    "            # broadcast and add the out grad\n",
    "            self.grad += out.grad\n",
    "        out._backward = _backward\n",
    "        return out\n",
    "    \n",
    "    def __add__(self, other):\n",
    "        assert self.data.shape == other.data.shape, \"Can't add these values\"\n",
    "        out = Value(self.data + other.data, (self, other), '+')\n",
    "        \n",
    "        def _backward():\n",
    "            self.grad = out.grad\n",
    "            other.grad = out.grad\n",
    "            \n",
    "        return out\n",
    "    \n",
    "    def convolve(self, other):\n",
    "        assert len(self.data.shape) == 2, \"Can't convolve matrices of shape more than 2\"\n",
    "        assert len(other.data.shape) == 2, \"Can't convolve matrices of shape more than 2\"\n",
    "        \n",
    "        a, b = self.data.shape\n",
    "        c, d = other.data.shape\n",
    "        \n",
    "        if (c > a and d > b):\n",
    "            return convolve(other, self)\n",
    "        \n",
    "        assert (c <= a and d <= b), \"Can't convolve where one matrix doesn't fit within the other\"\n",
    "        \n",
    "        output_array = np.zeros(shape = (a - c + 1, b - d + 1))\n",
    "        \n",
    "        for x in range(a - c + 1):\n",
    "            for y in range(b - d + 1):\n",
    "                output_array[x, y] = np.sum(self.data[x:x + c, y:y + d] * other.data)\n",
    "        \n",
    "        out = Value(output_array, (self, other), 'convolve')\n",
    "        \n",
    "        def _backward():\n",
    "            print(out.grad.shape)\n",
    "            print(\"(\", a - c, \",\", b - d, \")\")\n",
    "            for i in range(c):\n",
    "                for j in range(d):\n",
    "                    other.grad[i, j] += np.sum(out.grad * self.data[i:i + a - c + 1, j:j + b - d + 1])\n",
    "                    \n",
    "            for i in range(a - c + 1):\n",
    "                for j in range(b - d + 1):\n",
    "                    self.grad[i:i + c, j:j + d] += out.grad[i, j] * other.data\n",
    "            \n",
    "                    \n",
    "        out._backward = _backward\n",
    "        return out\n",
    "    \n",
    "    def backward(self):\n",
    "        topo = []\n",
    "        visited = set()\n",
    "        \n",
    "        def build_topo(v):\n",
    "            if v not in visited:\n",
    "                visited.add(v)\n",
    "                for child in v._prev:\n",
    "                    build_topo(child)\n",
    "                topo.append(v)\n",
    "                \n",
    "        build_topo(self)\n",
    "        self.grad = np.ones_like(self.data)\n",
    "        for node in reversed(topo):\n",
    "            node._backward()\n",
    "a = Value(np.random.random(size = (8, 4)))\n",
    "b = Value(np.random.random(size = (3, 2)))\n"
   ]
  },
  {
   "cell_type": "code",
   "execution_count": 124,
   "id": "2f763ee8",
   "metadata": {},
   "outputs": [
    {
     "name": "stdout",
     "output_type": "stream",
     "text": [
      "(6, 3)\n",
      "( 5 , 2 )\n",
      "(6, 3)\n",
      "( 5 , 2 )\n",
      "(6, 3)\n",
      "( 5 , 2 )\n",
      "(6, 3)\n",
      "( 5 , 2 )\n",
      "(6, 3)\n",
      "( 5 , 2 )\n",
      "(6, 3)\n",
      "( 5 , 2 )\n",
      "(6, 3)\n",
      "( 5 , 2 )\n",
      "(6, 3)\n",
      "( 5 , 2 )\n",
      "(6, 3)\n",
      "( 5 , 2 )\n",
      "(6, 3)\n",
      "( 5 , 2 )\n",
      "(6, 3)\n",
      "( 5 , 2 )\n",
      "(6, 3)\n",
      "( 5 , 2 )\n",
      "(6, 3)\n",
      "( 5 , 2 )\n",
      "(6, 3)\n",
      "( 5 , 2 )\n",
      "(6, 3)\n",
      "( 5 , 2 )\n",
      "(6, 3)\n",
      "( 5 , 2 )\n",
      "(6, 3)\n",
      "( 5 , 2 )\n",
      "(6, 3)\n",
      "( 5 , 2 )\n",
      "(6, 3)\n",
      "( 5 , 2 )\n",
      "(6, 3)\n",
      "( 5 , 2 )\n",
      "(6, 3)\n",
      "( 5 , 2 )\n",
      "(6, 3)\n",
      "( 5 , 2 )\n",
      "(6, 3)\n",
      "( 5 , 2 )\n",
      "(6, 3)\n",
      "( 5 , 2 )\n",
      "(6, 3)\n",
      "( 5 , 2 )\n",
      "(6, 3)\n",
      "( 5 , 2 )\n",
      "(6, 3)\n",
      "( 5 , 2 )\n",
      "(6, 3)\n",
      "( 5 , 2 )\n",
      "(6, 3)\n",
      "( 5 , 2 )\n",
      "(6, 3)\n",
      "( 5 , 2 )\n",
      "(6, 3)\n",
      "( 5 , 2 )\n",
      "(6, 3)\n",
      "( 5 , 2 )\n",
      "(6, 3)\n",
      "( 5 , 2 )\n",
      "(6, 3)\n",
      "( 5 , 2 )\n",
      "(6, 3)\n",
      "( 5 , 2 )\n",
      "(6, 3)\n",
      "( 5 , 2 )\n",
      "(6, 3)\n",
      "( 5 , 2 )\n",
      "(6, 3)\n",
      "( 5 , 2 )\n",
      "(6, 3)\n",
      "( 5 , 2 )\n",
      "(6, 3)\n",
      "( 5 , 2 )\n",
      "(6, 3)\n",
      "( 5 , 2 )\n",
      "(6, 3)\n",
      "( 5 , 2 )\n",
      "(6, 3)\n",
      "( 5 , 2 )\n",
      "(6, 3)\n",
      "( 5 , 2 )\n",
      "(6, 3)\n",
      "( 5 , 2 )\n",
      "(6, 3)\n",
      "( 5 , 2 )\n",
      "(6, 3)\n",
      "( 5 , 2 )\n",
      "(6, 3)\n",
      "( 5 , 2 )\n",
      "(6, 3)\n",
      "( 5 , 2 )\n",
      "(6, 3)\n",
      "( 5 , 2 )\n",
      "(6, 3)\n",
      "( 5 , 2 )\n",
      "(6, 3)\n",
      "( 5 , 2 )\n",
      "(6, 3)\n",
      "( 5 , 2 )\n",
      "(6, 3)\n",
      "( 5 , 2 )\n",
      "(6, 3)\n",
      "( 5 , 2 )\n",
      "(6, 3)\n",
      "( 5 , 2 )\n",
      "(6, 3)\n",
      "( 5 , 2 )\n",
      "(6, 3)\n",
      "( 5 , 2 )\n",
      "(6, 3)\n",
      "( 5 , 2 )\n",
      "(6, 3)\n",
      "( 5 , 2 )\n",
      "(6, 3)\n",
      "( 5 , 2 )\n",
      "(6, 3)\n",
      "( 5 , 2 )\n",
      "(6, 3)\n",
      "( 5 , 2 )\n",
      "(6, 3)\n",
      "( 5 , 2 )\n",
      "(6, 3)\n",
      "( 5 , 2 )\n",
      "(6, 3)\n",
      "( 5 , 2 )\n",
      "(6, 3)\n",
      "( 5 , 2 )\n",
      "(6, 3)\n",
      "( 5 , 2 )\n",
      "(6, 3)\n",
      "( 5 , 2 )\n",
      "(6, 3)\n",
      "( 5 , 2 )\n",
      "(6, 3)\n",
      "( 5 , 2 )\n",
      "(6, 3)\n",
      "( 5 , 2 )\n",
      "(6, 3)\n",
      "( 5 , 2 )\n",
      "(6, 3)\n",
      "( 5 , 2 )\n",
      "(6, 3)\n",
      "( 5 , 2 )\n",
      "(6, 3)\n",
      "( 5 , 2 )\n",
      "(6, 3)\n",
      "( 5 , 2 )\n",
      "(6, 3)\n",
      "( 5 , 2 )\n",
      "(6, 3)\n",
      "( 5 , 2 )\n",
      "(6, 3)\n",
      "( 5 , 2 )\n",
      "(6, 3)\n",
      "( 5 , 2 )\n",
      "(6, 3)\n",
      "( 5 , 2 )\n",
      "(6, 3)\n",
      "( 5 , 2 )\n",
      "(6, 3)\n",
      "( 5 , 2 )\n",
      "(6, 3)\n",
      "( 5 , 2 )\n",
      "(6, 3)\n",
      "( 5 , 2 )\n",
      "(6, 3)\n",
      "( 5 , 2 )\n",
      "(6, 3)\n",
      "( 5 , 2 )\n",
      "(6, 3)\n",
      "( 5 , 2 )\n",
      "(6, 3)\n",
      "( 5 , 2 )\n",
      "(6, 3)\n",
      "( 5 , 2 )\n",
      "(6, 3)\n",
      "( 5 , 2 )\n",
      "(6, 3)\n",
      "( 5 , 2 )\n",
      "(6, 3)\n",
      "( 5 , 2 )\n",
      "(6, 3)\n",
      "( 5 , 2 )\n",
      "(6, 3)\n",
      "( 5 , 2 )\n",
      "(6, 3)\n",
      "( 5 , 2 )\n",
      "(6, 3)\n",
      "( 5 , 2 )\n",
      "(6, 3)\n",
      "( 5 , 2 )\n",
      "(6, 3)\n",
      "( 5 , 2 )\n"
     ]
    }
   ],
   "source": [
    "loss_values = []\n",
    "for i in range(100):\n",
    "    p = a.convolve(b)\n",
    "    c = p.sum()\n",
    "    loss_values.append(c.data.item())\n",
    "    p.backward()\n",
    "    lr = 0.001\n",
    "    a.data = a.data - lr * a.grad\n",
    "    b.data = b.data - lr * b.grad\n",
    "    p.grad = np.zeros_like(p.grad)\n",
    "    a.grad = np.zeros_like(a.grad)\n",
    "    b.grad = np.zeros_like(b.grad)"
   ]
  },
  {
   "cell_type": "code",
   "execution_count": 125,
   "id": "eb3c4c66",
   "metadata": {},
   "outputs": [
    {
     "data": {
      "text/plain": [
       "[<matplotlib.lines.Line2D at 0x7ff3abb8c5d0>]"
      ]
     },
     "execution_count": 125,
     "metadata": {},
     "output_type": "execute_result"
    },
    {
     "data": {
      "image/png": "[encoded data removed]",
      "text/plain": [
       "<Figure size 432x288 with 1 Axes>"
      ]
     },
     "metadata": {
      "needs_background": "light"
     },
     "output_type": "display_data"
    }
   ],
   "source": [
    "plt.plot(loss_values)"
   ]
  },
  {
   "cell_type": "code",
   "execution_count": 126,
   "id": "0a519e4d",
   "metadata": {},
   "outputs": [
    {
     "data": {
      "text/plain": [
       "[23.497604553833146,\n",
       " 23.00180534907013,\n",
       " 22.513180670796935,\n",
       " 22.03158056333363,\n",
       " 21.556857248585167,\n",
       " 21.088865080372887,\n",
       " 20.627460499427393,\n",
       " 20.172501989028817,\n",
       " 19.72385003128075,\n",
       " 19.281367064004392,\n",
       " 18.844917438239495,\n",
       " 18.414367376339072,\n",
       " 17.989584930644806,\n",
       " 17.570439942730452,\n",
       " 17.15680400320067,\n",
       " 16.748550412032735,\n",
       " 16.345554139449053,\n",
       " 15.947691787308171,\n",
       " 15.55484155100258,\n",
       " 15.16688318185135,\n",
       " 14.783697949976096,\n",
       " 14.405168607648745,\n",
       " 14.03117935309981,\n",
       " 13.661615794775997,\n",
       " 13.296364916036053,\n",
       " 12.935315040274032,\n",
       " 12.578355796459151,\n",
       " 12.22537808508159,\n",
       " 11.876274044493796,\n",
       " 11.530937017636772,\n",
       " 11.189261519141223,\n",
       " 10.851143202793288,\n",
       " 10.516478829354869,\n",
       " 10.185166234728634,\n",
       " 9.857104298457832,\n",
       " 9.53219291255125,\n",
       " 9.210332950623616,\n",
       " 8.891426237342039,\n",
       " 8.575375518168933,\n",
       " 8.262084429392223,\n",
       " 7.951457468433476,\n",
       " 7.643399964424867,\n",
       " 7.337818049045899,\n",
       " 7.034618627610863,\n",
       " 6.733709350398153,\n",
       " 6.434998584212573,\n",
       " 6.138395384171903,\n",
       " 5.843809465708987,\n",
       " 5.551151176780763,\n",
       " 5.2603314702756405,\n",
       " 4.971261876610738,\n",
       " 4.6838544765105405,\n",
       " 4.398021873958597,\n",
       " 4.11367716931391,\n",
       " 3.830733932583774,\n",
       " 3.5491061768448096,\n",
       " 3.2687083318040138,\n",
       " 2.989455217491705,\n",
       " 2.7112620180782567,\n",
       " 2.4340442558065623,\n",
       " 2.1577177650322192,\n",
       " 1.882198666363451,\n",
       " 1.6074033408928003,\n",
       " 1.333248404512681,\n",
       " 1.0596506823068959,\n",
       " 0.7865271830102353,\n",
       " 0.5137950735283168,\n",
       " 0.24137165350983802,\n",
       " -0.0308256700365801,\n",
       " -0.3028794080887497,\n",
       " -0.5748720149282569,\n",
       " -0.8468859134365685,\n",
       " -1.1190035203776667,\n",
       " -1.3913072716749748,\n",
       " -1.663879647690335,\n",
       " -1.936803198512795,\n",
       " -2.2101605692649646,\n",
       " -2.4840345254347103,\n",
       " -2.7585079782399475,\n",
       " -3.0336640100343337,\n",
       " -3.3095858997616205,\n",
       " -3.586357148466506,\n",
       " -3.8640615048697837,\n",
       " -4.1427829910156335,\n",
       " -4.422605927998931,\n",
       " -4.703614961780429,\n",
       " -4.985895089097751,\n",
       " -5.269531683480128,\n",
       " -5.554610521374825,\n",
       " -5.841217808393296,\n",
       " -6.129440205685073,\n",
       " -6.419364856447481,\n",
       " -6.711079412579301,\n",
       " -7.004672061486511,\n",
       " -7.300231553048343,\n",
       " -7.597847226751896,\n",
       " -7.897609039003595,\n",
       " -8.199607590625865,\n",
       " -8.503934154547439,\n",
       " -8.810680703695748]"
      ]
     },
     "execution_count": 126,
     "metadata": {},
     "output_type": "execute_result"
    }
   ],
   "source": [
    "loss_values"
   ]
  },
  {
   "cell_type": "code",
   "execution_count": 80,
   "id": "6c38da06",
   "metadata": {},
   "outputs": [
    {
     "data": {
      "text/plain": [
       "array([[39.26856363]])"
      ]
     },
     "execution_count": 80,
     "metadata": {},
     "output_type": "execute_result"
    }
   ],
   "source": [
    "c.data"
   ]
  },
  {
   "cell_type": "code",
   "execution_count": 81,
   "id": "c9a502fc",
   "metadata": {},
   "outputs": [],
   "source": [
    "a = Value(np.random.random(size = (8, 4)))\n",
    "b = Value(np.random.random(size = (3, 2)))\n",
    "p = a.convolve(b)"
   ]
  },
  {
   "cell_type": "code",
   "execution_count": 69,
   "id": "21a75b57",
   "metadata": {},
   "outputs": [
    {
     "data": {
      "text/plain": [
       "array([[0.28854667, 0.52097852, 0.72157519, 0.16015157],\n",
       "       [0.59797653, 0.7960063 , 0.51156979, 0.29946508],\n",
       "       [0.66505738, 0.97861357, 0.50460044, 0.30209446],\n",
       "       [0.92404554, 0.03158564, 0.923937  , 0.16964512],\n",
       "       [0.77446521, 0.88317871, 0.63613022, 0.86213997],\n",
       "       [0.38135907, 0.79316632, 0.6588426 , 0.29467368],\n",
       "       [0.59353777, 0.24083879, 0.15629927, 0.25154594],\n",
       "       [0.93259388, 0.104382  , 0.0127822 , 0.79580627]])"
      ]
     },
     "execution_count": 69,
     "metadata": {},
     "output_type": "execute_result"
    }
   ],
   "source": [
    "a.data"
   ]
  },
  {
   "cell_type": "code",
   "execution_count": 70,
   "id": "e9b1109a",
   "metadata": {},
   "outputs": [
    {
     "data": {
      "text/plain": [
       "array([[0., 0.],\n",
       "       [0., 0.],\n",
       "       [0., 0.]])"
      ]
     },
     "execution_count": 70,
     "metadata": {},
     "output_type": "execute_result"
    }
   ],
   "source": [
    "b.grad"
   ]
  },
  {
   "cell_type": "code",
   "execution_count": 71,
   "id": "31e374be",
   "metadata": {},
   "outputs": [
    {
     "data": {
      "text/plain": [
       "array([[1.58525148, 1.83798766, 1.05951076],\n",
       "       [1.76551882, 1.52246673, 1.28014157],\n",
       "       [1.85291888, 1.24142126, 1.6054312 ],\n",
       "       [1.51541313, 1.87897412, 1.47230119],\n",
       "       [1.34546658, 1.40235475, 1.16409382],\n",
       "       [1.45302327, 0.61722991, 0.56983091]])"
      ]
     },
     "execution_count": 71,
     "metadata": {},
     "output_type": "execute_result"
    }
   ],
   "source": [
    "p.data"
   ]
  },
  {
   "cell_type": "code",
   "execution_count": 72,
   "id": "e3b2fc90",
   "metadata": {},
   "outputs": [],
   "source": [
    "c = p.sum()"
   ]
  },
  {
   "cell_type": "code",
   "execution_count": 73,
   "id": "e8d7de41",
   "metadata": {},
   "outputs": [
    {
     "data": {
      "text/plain": [
       "25.16933603559958"
      ]
     },
     "execution_count": 73,
     "metadata": {},
     "output_type": "execute_result"
    }
   ],
   "source": [
    "c.data"
   ]
  },
  {
   "cell_type": "code",
   "execution_count": 74,
   "id": "2ee568a6",
   "metadata": {},
   "outputs": [
    {
     "ename": "IndexError",
     "evalue": "index -5 is out of bounds for axis 0 with size 3",
     "output_type": "error",
     "traceback": [
      "\u001b[0;31m---------------------------------------------------------------------------\u001b[0m",
      "\u001b[0;31mIndexError\u001b[0m                                Traceback (most recent call last)",
      "Cell \u001b[0;32mIn[74], line 1\u001b[0m\n\u001b[0;32m----> 1\u001b[0m p\u001b[38;5;241m.\u001b[39mbackward()\n",
      "Cell \u001b[0;32mIn[67], line 93\u001b[0m, in \u001b[0;36mValue.backward\u001b[0;34m(self)\u001b[0m\n\u001b[1;32m     91\u001b[0m \u001b[38;5;28mself\u001b[39m\u001b[38;5;241m.\u001b[39mgrad \u001b[38;5;241m=\u001b[39m np\u001b[38;5;241m.\u001b[39mones_like(\u001b[38;5;28mself\u001b[39m\u001b[38;5;241m.\u001b[39mdata)\n\u001b[1;32m     92\u001b[0m \u001b[38;5;28;01mfor\u001b[39;00m node \u001b[38;5;129;01min\u001b[39;00m \u001b[38;5;28mreversed\u001b[39m(topo):\n\u001b[0;32m---> 93\u001b[0m     node\u001b[38;5;241m.\u001b[39m_backward()\n",
      "Cell \u001b[0;32mIn[67], line 65\u001b[0m, in \u001b[0;36mValue.convolve.<locals>._backward\u001b[0;34m()\u001b[0m\n\u001b[1;32m     62\u001b[0m     \u001b[38;5;28mself\u001b[39m\u001b[38;5;241m.\u001b[39mgrad[i, \u001b[38;5;241m0\u001b[39m] \u001b[38;5;241m+\u001b[39m\u001b[38;5;241m=\u001b[39m cumulative\n\u001b[1;32m     64\u001b[0m \u001b[38;5;28;01mfor\u001b[39;00m i \u001b[38;5;129;01min\u001b[39;00m \u001b[38;5;28mrange\u001b[39m(a \u001b[38;5;241m-\u001b[39m c \u001b[38;5;241m+\u001b[39m \u001b[38;5;241m1\u001b[39m, a):\n\u001b[0;32m---> 65\u001b[0m     cumulative \u001b[38;5;241m-\u001b[39m\u001b[38;5;241m=\u001b[39m other\u001b[38;5;241m.\u001b[39mdata[j \u001b[38;5;241m-\u001b[39m (a \u001b[38;5;241m-\u001b[39m c \u001b[38;5;241m+\u001b[39m \u001b[38;5;241m1\u001b[39m), \u001b[38;5;241m0\u001b[39m]\n\u001b[1;32m     66\u001b[0m     \u001b[38;5;28mself\u001b[39m\u001b[38;5;241m.\u001b[39mgrad[i, \u001b[38;5;241m0\u001b[39m] \u001b[38;5;241m+\u001b[39m\u001b[38;5;241m=\u001b[39m cumulative\n\u001b[1;32m     68\u001b[0m additive \u001b[38;5;241m=\u001b[39m \u001b[38;5;241m0\u001b[39m\n",
      "\u001b[0;31mIndexError\u001b[0m: index -5 is out of bounds for axis 0 with size 3"
     ]
    }
   ],
   "source": [
    "p.backward()"
   ]
  },
  {
   "cell_type": "code",
   "execution_count": 1,
   "id": "5cae7213",
   "metadata": {},
   "outputs": [
    {
     "ename": "NameError",
     "evalue": "name 'np' is not defined",
     "output_type": "error",
     "traceback": [
      "\u001b[0;31m---------------------------------------------------------------------------\u001b[0m",
      "\u001b[0;31mNameError\u001b[0m                                 Traceback (most recent call last)",
      "Cell \u001b[0;32mIn[1], line 1\u001b[0m\n\u001b[0;32m----> 1\u001b[0m a \u001b[38;5;241m=\u001b[39m np\u001b[38;5;241m.\u001b[39mrandom\u001b[38;5;241m.\u001b[39mrandom(size \u001b[38;5;241m=\u001b[39m (\u001b[38;5;241m4\u001b[39m, \u001b[38;5;241m3\u001b[39m, \u001b[38;5;241m3\u001b[39m, \u001b[38;5;241m3\u001b[39m))\n\u001b[1;32m      2\u001b[0m b \u001b[38;5;241m=\u001b[39m np\u001b[38;5;241m.\u001b[39mrandom\u001b[38;5;241m.\u001b[39mrandom(size \u001b[38;5;241m=\u001b[39m (\u001b[38;5;241m3\u001b[39m, \u001b[38;5;241m3\u001b[39m, \u001b[38;5;241m3\u001b[39m))\n",
      "\u001b[0;31mNameError\u001b[0m: name 'np' is not defined"
     ]
    }
   ],
   "source": []
  },
  {
   "cell_type": "code",
   "execution_count": null,
   "id": "0f269d3f",
   "metadata": {},
   "outputs": [],
   "source": [
    "\n"
   ]
  }
 ],
 "metadata": {
  "kernelspec": {
   "display_name": "ML",
   "language": "python",
   "name": "ml"
  },
  "language_info": {
   "codemirror_mode": {
    "name": "ipython",
    "version": 3
   },
   "file_extension": ".py",
   "mimetype": "text/x-python",
   "name": "python",
   "nbconvert_exporter": "python",
   "pygments_lexer": "ipython3",
   "version": "3.11.3"
  }
 },
 "nbformat": 4,
 "nbformat_minor": 5
}
