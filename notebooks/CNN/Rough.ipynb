{
 "cells": [
  {
   "cell_type": "code",
   "execution_count": 18,
   "id": "1d602ffc",
   "metadata": {},
   "outputs": [],
   "source": [
    "import numpy as np"
   ]
  },
  {
   "cell_type": "code",
   "execution_count": 15,
   "id": "f90bdc40",
   "metadata": {},
   "outputs": [],
   "source": [
    "def fun1(*args, **kwargs):\n",
    "    # args is a list of accumulated unnamed parameters\n",
    "    # kwargs is a dict of named parameters\n",
    "    print(tuple(args))\n",
    "    for arg in args:\n",
    "        print(\"Next argument through *argv :\", arg)\n",
    "        \n",
    "    for key, value in kwargs.items():\n",
    "        print(\"%s == %s\" % (key, value))"
   ]
  },
  {
   "cell_type": "code",
   "execution_count": 16,
   "id": "c57158be",
   "metadata": {},
   "outputs": [
    {
     "name": "stdout",
     "output_type": "stream",
     "text": [
      "(4, 5, 3, 10)\n",
      "Next argument through *argv : 4\n",
      "Next argument through *argv : 5\n",
      "Next argument through *argv : 3\n",
      "Next argument through *argv : 10\n"
     ]
    }
   ],
   "source": [
    "fun1(4, 5, 3, 10)"
   ]
  },
  {
   "cell_type": "code",
   "execution_count": 5,
   "id": "e1688a3d",
   "metadata": {},
   "outputs": [
    {
     "name": "stdout",
     "output_type": "stream",
     "text": [
      "Next argument through *argv : 4\n",
      "Next argument through *argv : 3\n",
      "a == 2\n",
      "p == 0\n"
     ]
    }
   ],
   "source": [
    "fun1(4, 3, a =  2, p = 0)"
   ]
  },
  {
   "cell_type": "code",
   "execution_count": 13,
   "id": "d801780b",
   "metadata": {},
   "outputs": [],
   "source": [
    "def fun2(*args, **kwargs):\n",
    "    \n",
    "    fun1(*args, **kwargs)"
   ]
  },
  {
   "cell_type": "code",
   "execution_count": 14,
   "id": "f27527c2",
   "metadata": {},
   "outputs": [
    {
     "name": "stdout",
     "output_type": "stream",
     "text": [
      "Next argument through *argv : 4\n",
      "Next argument through *argv : 3\n",
      "a == 2\n",
      "p == 0\n"
     ]
    }
   ],
   "source": [
    "fun2(4, 3, a =  2, p = 0)"
   ]
  },
  {
   "cell_type": "markdown",
   "id": "da8e953e",
   "metadata": {},
   "source": [
    "### testing out broadcasting in 4 dimensions"
   ]
  },
  {
   "cell_type": "code",
   "execution_count": 34,
   "id": "10673467",
   "metadata": {},
   "outputs": [],
   "source": [
    "p = np.random.randint(1, 10, size = (3, 4, 5, 6))"
   ]
  },
  {
   "cell_type": "code",
   "execution_count": 35,
   "id": "91f5c541",
   "metadata": {},
   "outputs": [],
   "source": [
    "c = np.random.randint(1, 5, size = (4, 2, 3))"
   ]
  },
  {
   "cell_type": "code",
   "execution_count": 36,
   "id": "6eff2fac",
   "metadata": {},
   "outputs": [
    {
     "data": {
      "text/plain": [
       "(3, 4, 2, 3)"
      ]
     },
     "execution_count": 36,
     "metadata": {},
     "output_type": "execute_result"
    }
   ],
   "source": [
    "p[:, :, 1:3, 2:5].shape"
   ]
  },
  {
   "cell_type": "code",
   "execution_count": 59,
   "id": "7c21dd56",
   "metadata": {},
   "outputs": [],
   "source": [
    "# Does this work ?\n",
    "actual = p[:, :, 1:3, 2:5] + c"
   ]
  },
  {
   "cell_type": "code",
   "execution_count": 49,
   "id": "81c6dac4",
   "metadata": {},
   "outputs": [
    {
     "data": {
      "text/plain": [
       "(3, 4, 2, 3)"
      ]
     },
     "execution_count": 49,
     "metadata": {},
     "output_type": "execute_result"
    }
   ],
   "source": [
    "actual.shape"
   ]
  },
  {
   "cell_type": "code",
   "execution_count": 56,
   "id": "9ffcaca4",
   "metadata": {},
   "outputs": [],
   "source": [
    "n, _, _, _ = p.shape\n",
    "expected = np.copy(p[:, :, 1:3, 2:5])\n",
    "for i in range(n):\n",
    "    expected[i, :] += c"
   ]
  },
  {
   "cell_type": "code",
   "execution_count": 57,
   "id": "f3e37076",
   "metadata": {},
   "outputs": [
    {
     "data": {
      "text/plain": [
       "(3, 4, 2, 3)"
      ]
     },
     "execution_count": 57,
     "metadata": {},
     "output_type": "execute_result"
    }
   ],
   "source": [
    "expected.shape"
   ]
  },
  {
   "cell_type": "code",
   "execution_count": 61,
   "id": "982716e3",
   "metadata": {},
   "outputs": [
    {
     "data": {
      "text/plain": [
       "0.0"
      ]
     },
     "execution_count": 61,
     "metadata": {},
     "output_type": "execute_result"
    }
   ],
   "source": [
    "np.linalg.norm(expected - actual)"
   ]
  },
  {
   "cell_type": "markdown",
   "id": "709eb92d",
   "metadata": {},
   "source": [
    "## isinstance"
   ]
  },
  {
   "cell_type": "code",
   "execution_count": 62,
   "id": "716c6cb9",
   "metadata": {},
   "outputs": [
    {
     "data": {
      "text/plain": [
       "True"
      ]
     },
     "execution_count": 62,
     "metadata": {},
     "output_type": "execute_result"
    }
   ],
   "source": [
    "isinstance((3, 2), tuple)"
   ]
  },
  {
   "cell_type": "code",
   "execution_count": 63,
   "id": "dbb5d6c4",
   "metadata": {},
   "outputs": [
    {
     "data": {
      "text/plain": [
       "False"
      ]
     },
     "execution_count": 63,
     "metadata": {},
     "output_type": "execute_result"
    }
   ],
   "source": [
    "isinstance(3, tuple)"
   ]
  },
  {
   "cell_type": "code",
   "execution_count": 64,
   "id": "ee207a7b",
   "metadata": {},
   "outputs": [
    {
     "data": {
      "text/plain": [
       "2"
      ]
     },
     "execution_count": 64,
     "metadata": {},
     "output_type": "execute_result"
    }
   ],
   "source": [
    "len((3, 45))"
   ]
  },
  {
   "cell_type": "code",
   "execution_count": 65,
   "id": "2cb50620",
   "metadata": {},
   "outputs": [
    {
     "data": {
      "text/plain": [
       "(4, 3, 3)"
      ]
     },
     "execution_count": 65,
     "metadata": {},
     "output_type": "execute_result"
    }
   ],
   "source": [
    "(4, *(3, 3))"
   ]
  },
  {
   "cell_type": "code",
   "execution_count": 66,
   "id": "66128a64",
   "metadata": {},
   "outputs": [],
   "source": [
    "a = np.random.random(size = (4, 3, 3, 3))\n",
    "b = np.random.random(size = (3, 3, 3))"
   ]
  },
  {
   "cell_type": "code",
   "execution_count": 72,
   "id": "8b263ec3",
   "metadata": {},
   "outputs": [
    {
     "data": {
      "text/plain": [
       "array([5.21390611, 6.86638048, 5.88545934, 7.1944647 ])"
      ]
     },
     "execution_count": 72,
     "metadata": {},
     "output_type": "execute_result"
    }
   ],
   "source": [
    "np.sum(a * b, axis = (1, 2, 3))"
   ]
  },
  {
   "cell_type": "code",
   "execution_count": null,
   "id": "d422d0e8",
   "metadata": {},
   "outputs": [],
   "source": []
  }
 ],
 "metadata": {
  "kernelspec": {
   "display_name": "ML",
   "language": "python",
   "name": "ml"
  },
  "language_info": {
   "codemirror_mode": {
    "name": "ipython",
    "version": 3
   },
   "file_extension": ".py",
   "mimetype": "text/x-python",
   "name": "python",
   "nbconvert_exporter": "python",
   "pygments_lexer": "ipython3",
   "version": "3.11.3"
  }
 },
 "nbformat": 4,
 "nbformat_minor": 5
}
