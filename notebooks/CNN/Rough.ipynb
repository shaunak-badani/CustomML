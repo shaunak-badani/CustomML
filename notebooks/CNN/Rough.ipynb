{
 "cells": [
  {
   "cell_type": "code",
   "execution_count": 1,
   "id": "1d602ffc",
   "metadata": {},
   "outputs": [],
   "source": [
    "import numpy as np"
   ]
  },
  {
   "cell_type": "code",
   "execution_count": 2,
   "id": "f90bdc40",
   "metadata": {},
   "outputs": [],
   "source": [
    "def fun1(*args, **kwargs):\n",
    "    # args is a list of accumulated unnamed parameters\n",
    "    # kwargs is a dict of named parameters\n",
    "    print(tuple(args))\n",
    "    for arg in args:\n",
    "        print(\"Next argument through *argv :\", arg)\n",
    "        \n",
    "    for key, value in kwargs.items():\n",
    "        print(\"%s == %s\" % (key, value))"
   ]
  },
  {
   "cell_type": "code",
   "execution_count": 3,
   "id": "c57158be",
   "metadata": {},
   "outputs": [
    {
     "name": "stdout",
     "output_type": "stream",
     "text": [
      "(4, 5, 3, 10)\n",
      "Next argument through *argv : 4\n",
      "Next argument through *argv : 5\n",
      "Next argument through *argv : 3\n",
      "Next argument through *argv : 10\n"
     ]
    }
   ],
   "source": [
    "fun1(4, 5, 3, 10)"
   ]
  },
  {
   "cell_type": "code",
   "execution_count": 4,
   "id": "e1688a3d",
   "metadata": {},
   "outputs": [
    {
     "name": "stdout",
     "output_type": "stream",
     "text": [
      "(4, 3)\n",
      "Next argument through *argv : 4\n",
      "Next argument through *argv : 3\n",
      "a == 2\n",
      "p == 0\n"
     ]
    }
   ],
   "source": [
    "fun1(4, 3, a =  2, p = 0)"
   ]
  },
  {
   "cell_type": "code",
   "execution_count": 5,
   "id": "d801780b",
   "metadata": {},
   "outputs": [],
   "source": [
    "def fun2(*args, **kwargs):\n",
    "    \n",
    "    fun1(*args, **kwargs)"
   ]
  },
  {
   "cell_type": "code",
   "execution_count": 6,
   "id": "f27527c2",
   "metadata": {},
   "outputs": [
    {
     "name": "stdout",
     "output_type": "stream",
     "text": [
      "(4, 3)\n",
      "Next argument through *argv : 4\n",
      "Next argument through *argv : 3\n",
      "a == 2\n",
      "p == 0\n"
     ]
    }
   ],
   "source": [
    "fun2(4, 3, a =  2, p = 0)"
   ]
  },
  {
   "cell_type": "markdown",
   "id": "da8e953e",
   "metadata": {},
   "source": [
    "### testing out broadcasting in 4 dimensions"
   ]
  },
  {
   "cell_type": "code",
   "execution_count": 7,
   "id": "10673467",
   "metadata": {},
   "outputs": [],
   "source": [
    "p = np.random.randint(1, 10, size = (3, 4, 5, 6))"
   ]
  },
  {
   "cell_type": "code",
   "execution_count": 8,
   "id": "91f5c541",
   "metadata": {},
   "outputs": [],
   "source": [
    "c = np.random.randint(1, 5, size = (4, 2, 3))"
   ]
  },
  {
   "cell_type": "code",
   "execution_count": 9,
   "id": "6eff2fac",
   "metadata": {},
   "outputs": [
    {
     "data": {
      "text/plain": [
       "(3, 4, 2, 3)"
      ]
     },
     "execution_count": 9,
     "metadata": {},
     "output_type": "execute_result"
    }
   ],
   "source": [
    "p[:, :, 1:3, 2:5].shape"
   ]
  },
  {
   "cell_type": "code",
   "execution_count": 10,
   "id": "7c21dd56",
   "metadata": {},
   "outputs": [],
   "source": [
    "# Does this work ?\n",
    "actual = p[:, :, 1:3, 2:5] + c"
   ]
  },
  {
   "cell_type": "code",
   "execution_count": 11,
   "id": "81c6dac4",
   "metadata": {},
   "outputs": [
    {
     "data": {
      "text/plain": [
       "(3, 4, 2, 3)"
      ]
     },
     "execution_count": 11,
     "metadata": {},
     "output_type": "execute_result"
    }
   ],
   "source": [
    "actual.shape"
   ]
  },
  {
   "cell_type": "code",
   "execution_count": 12,
   "id": "9ffcaca4",
   "metadata": {},
   "outputs": [],
   "source": [
    "n, _, _, _ = p.shape\n",
    "expected = np.copy(p[:, :, 1:3, 2:5])\n",
    "for i in range(n):\n",
    "    expected[i, :] += c"
   ]
  },
  {
   "cell_type": "code",
   "execution_count": 13,
   "id": "f3e37076",
   "metadata": {},
   "outputs": [
    {
     "data": {
      "text/plain": [
       "(3, 4, 2, 3)"
      ]
     },
     "execution_count": 13,
     "metadata": {},
     "output_type": "execute_result"
    }
   ],
   "source": [
    "expected.shape"
   ]
  },
  {
   "cell_type": "code",
   "execution_count": 14,
   "id": "982716e3",
   "metadata": {},
   "outputs": [
    {
     "data": {
      "text/plain": [
       "0.0"
      ]
     },
     "execution_count": 14,
     "metadata": {},
     "output_type": "execute_result"
    }
   ],
   "source": [
    "np.linalg.norm(expected - actual)"
   ]
  },
  {
   "cell_type": "markdown",
   "id": "709eb92d",
   "metadata": {},
   "source": [
    "## isinstance"
   ]
  },
  {
   "cell_type": "code",
   "execution_count": 15,
   "id": "716c6cb9",
   "metadata": {},
   "outputs": [
    {
     "data": {
      "text/plain": [
       "True"
      ]
     },
     "execution_count": 15,
     "metadata": {},
     "output_type": "execute_result"
    }
   ],
   "source": [
    "isinstance((3, 2), tuple)"
   ]
  },
  {
   "cell_type": "code",
   "execution_count": 16,
   "id": "dbb5d6c4",
   "metadata": {},
   "outputs": [
    {
     "data": {
      "text/plain": [
       "False"
      ]
     },
     "execution_count": 16,
     "metadata": {},
     "output_type": "execute_result"
    }
   ],
   "source": [
    "isinstance(3, tuple)"
   ]
  },
  {
   "cell_type": "code",
   "execution_count": 17,
   "id": "ee207a7b",
   "metadata": {},
   "outputs": [
    {
     "data": {
      "text/plain": [
       "2"
      ]
     },
     "execution_count": 17,
     "metadata": {},
     "output_type": "execute_result"
    }
   ],
   "source": [
    "len((3, 45))"
   ]
  },
  {
   "cell_type": "code",
   "execution_count": 18,
   "id": "2cb50620",
   "metadata": {},
   "outputs": [
    {
     "data": {
      "text/plain": [
       "(4, 3, 3)"
      ]
     },
     "execution_count": 18,
     "metadata": {},
     "output_type": "execute_result"
    }
   ],
   "source": [
    "(4, *(3, 3))"
   ]
  },
  {
   "cell_type": "code",
   "execution_count": 19,
   "id": "66128a64",
   "metadata": {},
   "outputs": [],
   "source": [
    "a = np.random.random(size = (4, 3, 3, 3))\n",
    "b = np.random.random(size = (3, 3, 3))"
   ]
  },
  {
   "cell_type": "code",
   "execution_count": 20,
   "id": "8b263ec3",
   "metadata": {},
   "outputs": [
    {
     "data": {
      "text/plain": [
       "array([6.07841361, 7.04607303, 6.31236962, 7.71050025])"
      ]
     },
     "execution_count": 20,
     "metadata": {},
     "output_type": "execute_result"
    }
   ],
   "source": [
    "np.sum(a * b, axis = (1, 2, 3))"
   ]
  },
  {
   "cell_type": "code",
   "execution_count": 102,
   "id": "d422d0e8",
   "metadata": {},
   "outputs": [],
   "source": [
    "a = np.random.randint(0, 10, size = (10, 5, 6, 7)).astype('float32')"
   ]
  },
  {
   "cell_type": "code",
   "execution_count": 103,
   "id": "0e5a90fa",
   "metadata": {},
   "outputs": [
    {
     "data": {
      "text/plain": [
       "array([[[[5., 7., 1., ..., 7., 4., 1.],\n",
       "         [2., 0., 8., ..., 7., 2., 6.],\n",
       "         [6., 6., 1., ..., 1., 7., 2.],\n",
       "         [8., 9., 5., ..., 3., 2., 0.],\n",
       "         [6., 3., 9., ..., 7., 1., 5.],\n",
       "         [0., 7., 4., ..., 1., 0., 9.]],\n",
       "\n",
       "        [[2., 3., 9., ..., 8., 6., 4.],\n",
       "         [2., 2., 5., ..., 5., 8., 3.],\n",
       "         [5., 7., 7., ..., 5., 2., 4.],\n",
       "         [1., 2., 6., ..., 2., 9., 9.],\n",
       "         [0., 6., 0., ..., 2., 3., 2.],\n",
       "         [8., 4., 4., ..., 3., 8., 9.]],\n",
       "\n",
       "        [[0., 2., 1., ..., 1., 1., 4.],\n",
       "         [0., 4., 3., ..., 3., 5., 9.],\n",
       "         [3., 2., 8., ..., 7., 7., 6.],\n",
       "         [5., 2., 9., ..., 6., 2., 7.],\n",
       "         [2., 1., 0., ..., 1., 7., 3.],\n",
       "         [2., 7., 9., ..., 8., 4., 3.]],\n",
       "\n",
       "        [[2., 4., 5., ..., 2., 6., 0.],\n",
       "         [1., 7., 8., ..., 9., 3., 8.],\n",
       "         [3., 4., 7., ..., 0., 2., 6.],\n",
       "         [7., 6., 9., ..., 9., 0., 8.],\n",
       "         [2., 9., 2., ..., 7., 1., 6.],\n",
       "         [0., 1., 4., ..., 4., 6., 6.]],\n",
       "\n",
       "        [[0., 6., 7., ..., 4., 3., 1.],\n",
       "         [3., 5., 4., ..., 3., 9., 2.],\n",
       "         [4., 3., 2., ..., 8., 6., 4.],\n",
       "         [8., 6., 1., ..., 6., 7., 5.],\n",
       "         [4., 4., 5., ..., 9., 3., 2.],\n",
       "         [7., 5., 7., ..., 1., 0., 1.]]],\n",
       "\n",
       "\n",
       "       [[[3., 4., 2., ..., 4., 3., 5.],\n",
       "         [4., 9., 3., ..., 0., 4., 6.],\n",
       "         [6., 4., 4., ..., 3., 9., 4.],\n",
       "         [0., 9., 1., ..., 3., 2., 7.],\n",
       "         [0., 9., 0., ..., 0., 4., 3.],\n",
       "         [0., 6., 1., ..., 8., 4., 5.]],\n",
       "\n",
       "        [[6., 8., 6., ..., 3., 2., 5.],\n",
       "         [1., 6., 2., ..., 8., 1., 8.],\n",
       "         [6., 1., 6., ..., 6., 3., 7.],\n",
       "         [9., 0., 7., ..., 3., 2., 6.],\n",
       "         [6., 8., 0., ..., 7., 2., 4.],\n",
       "         [5., 0., 7., ..., 1., 1., 8.]],\n",
       "\n",
       "        [[3., 0., 1., ..., 4., 3., 7.],\n",
       "         [7., 9., 1., ..., 8., 5., 1.],\n",
       "         [9., 1., 8., ..., 1., 9., 5.],\n",
       "         [6., 6., 2., ..., 5., 6., 6.],\n",
       "         [6., 0., 3., ..., 2., 1., 9.],\n",
       "         [0., 7., 3., ..., 8., 3., 8.]],\n",
       "\n",
       "        [[1., 8., 7., ..., 1., 5., 0.],\n",
       "         [3., 2., 7., ..., 9., 2., 4.],\n",
       "         [7., 7., 6., ..., 5., 3., 9.],\n",
       "         [5., 8., 2., ..., 7., 6., 1.],\n",
       "         [7., 9., 1., ..., 3., 0., 8.],\n",
       "         [2., 1., 2., ..., 1., 4., 7.]],\n",
       "\n",
       "        [[4., 7., 9., ..., 8., 8., 3.],\n",
       "         [3., 1., 6., ..., 1., 8., 3.],\n",
       "         [1., 5., 3., ..., 0., 3., 5.],\n",
       "         [3., 2., 5., ..., 3., 5., 7.],\n",
       "         [1., 1., 2., ..., 4., 4., 2.],\n",
       "         [0., 4., 5., ..., 0., 8., 9.]]],\n",
       "\n",
       "\n",
       "       [[[8., 9., 5., ..., 7., 0., 6.],\n",
       "         [9., 8., 5., ..., 4., 5., 9.],\n",
       "         [4., 2., 9., ..., 9., 3., 1.],\n",
       "         [4., 3., 2., ..., 5., 2., 8.],\n",
       "         [4., 2., 1., ..., 8., 4., 6.],\n",
       "         [5., 0., 3., ..., 9., 2., 1.]],\n",
       "\n",
       "        [[4., 4., 6., ..., 3., 0., 5.],\n",
       "         [2., 4., 2., ..., 7., 0., 2.],\n",
       "         [5., 9., 6., ..., 8., 9., 4.],\n",
       "         [6., 7., 8., ..., 9., 9., 0.],\n",
       "         [0., 5., 8., ..., 8., 3., 8.],\n",
       "         [5., 0., 0., ..., 9., 4., 5.]],\n",
       "\n",
       "        [[1., 1., 2., ..., 9., 9., 3.],\n",
       "         [9., 8., 7., ..., 7., 0., 0.],\n",
       "         [7., 0., 3., ..., 0., 0., 9.],\n",
       "         [9., 2., 6., ..., 5., 4., 5.],\n",
       "         [9., 4., 1., ..., 8., 2., 8.],\n",
       "         [2., 4., 8., ..., 6., 1., 9.]],\n",
       "\n",
       "        [[9., 0., 8., ..., 7., 1., 9.],\n",
       "         [8., 8., 3., ..., 3., 7., 4.],\n",
       "         [0., 4., 9., ..., 1., 7., 8.],\n",
       "         [4., 6., 9., ..., 9., 2., 5.],\n",
       "         [5., 6., 4., ..., 3., 5., 1.],\n",
       "         [6., 6., 7., ..., 2., 4., 9.]],\n",
       "\n",
       "        [[9., 6., 4., ..., 0., 4., 8.],\n",
       "         [2., 8., 7., ..., 1., 4., 3.],\n",
       "         [0., 9., 2., ..., 2., 7., 5.],\n",
       "         [7., 8., 3., ..., 7., 8., 8.],\n",
       "         [0., 5., 0., ..., 7., 8., 1.],\n",
       "         [9., 7., 9., ..., 6., 2., 0.]]],\n",
       "\n",
       "\n",
       "       ...,\n",
       "\n",
       "\n",
       "       [[[1., 0., 5., ..., 4., 3., 4.],\n",
       "         [4., 7., 0., ..., 4., 9., 6.],\n",
       "         [0., 4., 7., ..., 1., 8., 4.],\n",
       "         [3., 4., 4., ..., 6., 6., 9.],\n",
       "         [9., 3., 4., ..., 4., 9., 7.],\n",
       "         [3., 2., 4., ..., 5., 0., 0.]],\n",
       "\n",
       "        [[6., 9., 6., ..., 8., 5., 5.],\n",
       "         [1., 3., 2., ..., 9., 5., 7.],\n",
       "         [7., 5., 5., ..., 7., 7., 4.],\n",
       "         [0., 4., 0., ..., 1., 0., 7.],\n",
       "         [1., 9., 7., ..., 3., 7., 6.],\n",
       "         [0., 5., 2., ..., 2., 1., 0.]],\n",
       "\n",
       "        [[9., 5., 4., ..., 1., 7., 9.],\n",
       "         [6., 5., 9., ..., 9., 3., 1.],\n",
       "         [9., 6., 3., ..., 5., 9., 7.],\n",
       "         [1., 8., 4., ..., 6., 4., 9.],\n",
       "         [8., 4., 9., ..., 8., 2., 7.],\n",
       "         [2., 5., 0., ..., 1., 6., 7.]],\n",
       "\n",
       "        [[0., 1., 3., ..., 9., 5., 2.],\n",
       "         [8., 3., 8., ..., 2., 3., 5.],\n",
       "         [2., 4., 2., ..., 5., 0., 6.],\n",
       "         [9., 3., 4., ..., 1., 5., 2.],\n",
       "         [1., 6., 7., ..., 8., 2., 4.],\n",
       "         [1., 3., 3., ..., 6., 0., 7.]],\n",
       "\n",
       "        [[5., 0., 8., ..., 9., 7., 4.],\n",
       "         [1., 8., 6., ..., 5., 7., 7.],\n",
       "         [8., 9., 4., ..., 7., 3., 2.],\n",
       "         [4., 4., 1., ..., 1., 6., 7.],\n",
       "         [5., 8., 4., ..., 9., 7., 8.],\n",
       "         [0., 1., 4., ..., 0., 8., 1.]]],\n",
       "\n",
       "\n",
       "       [[[4., 1., 2., ..., 9., 6., 1.],\n",
       "         [1., 1., 7., ..., 4., 5., 9.],\n",
       "         [9., 0., 0., ..., 9., 8., 0.],\n",
       "         [9., 9., 3., ..., 0., 2., 3.],\n",
       "         [5., 7., 1., ..., 3., 7., 4.],\n",
       "         [7., 0., 1., ..., 3., 0., 7.]],\n",
       "\n",
       "        [[4., 1., 2., ..., 3., 3., 0.],\n",
       "         [8., 1., 7., ..., 3., 9., 2.],\n",
       "         [0., 6., 4., ..., 5., 4., 0.],\n",
       "         [2., 0., 0., ..., 0., 3., 8.],\n",
       "         [8., 6., 0., ..., 3., 0., 1.],\n",
       "         [8., 7., 8., ..., 3., 1., 8.]],\n",
       "\n",
       "        [[9., 7., 3., ..., 4., 1., 5.],\n",
       "         [0., 8., 4., ..., 7., 8., 2.],\n",
       "         [1., 0., 9., ..., 3., 9., 4.],\n",
       "         [4., 8., 8., ..., 2., 2., 5.],\n",
       "         [4., 7., 0., ..., 1., 7., 2.],\n",
       "         [9., 6., 8., ..., 3., 2., 7.]],\n",
       "\n",
       "        [[6., 5., 7., ..., 7., 0., 6.],\n",
       "         [1., 9., 9., ..., 3., 3., 5.],\n",
       "         [8., 2., 4., ..., 3., 1., 7.],\n",
       "         [6., 6., 2., ..., 7., 9., 1.],\n",
       "         [9., 7., 8., ..., 2., 2., 4.],\n",
       "         [4., 2., 2., ..., 8., 2., 1.]],\n",
       "\n",
       "        [[9., 8., 1., ..., 1., 2., 9.],\n",
       "         [8., 8., 7., ..., 7., 0., 3.],\n",
       "         [5., 5., 2., ..., 1., 0., 8.],\n",
       "         [4., 8., 3., ..., 0., 0., 0.],\n",
       "         [8., 9., 0., ..., 6., 1., 4.],\n",
       "         [0., 2., 0., ..., 8., 5., 5.]]],\n",
       "\n",
       "\n",
       "       [[[6., 9., 8., ..., 8., 2., 3.],\n",
       "         [0., 3., 7., ..., 2., 2., 7.],\n",
       "         [3., 9., 3., ..., 9., 5., 5.],\n",
       "         [8., 7., 7., ..., 8., 7., 0.],\n",
       "         [7., 4., 3., ..., 4., 9., 3.],\n",
       "         [7., 2., 1., ..., 9., 4., 2.]],\n",
       "\n",
       "        [[8., 1., 5., ..., 4., 7., 5.],\n",
       "         [0., 2., 0., ..., 9., 1., 6.],\n",
       "         [1., 1., 4., ..., 4., 0., 6.],\n",
       "         [1., 3., 2., ..., 2., 2., 1.],\n",
       "         [5., 5., 9., ..., 9., 1., 8.],\n",
       "         [6., 6., 0., ..., 3., 4., 7.]],\n",
       "\n",
       "        [[2., 6., 5., ..., 4., 3., 6.],\n",
       "         [4., 6., 4., ..., 1., 1., 5.],\n",
       "         [8., 4., 7., ..., 4., 3., 9.],\n",
       "         [5., 9., 2., ..., 7., 6., 0.],\n",
       "         [6., 6., 7., ..., 2., 7., 3.],\n",
       "         [4., 6., 9., ..., 4., 5., 4.]],\n",
       "\n",
       "        [[3., 8., 9., ..., 2., 2., 4.],\n",
       "         [0., 3., 0., ..., 3., 5., 5.],\n",
       "         [6., 8., 1., ..., 0., 3., 0.],\n",
       "         [7., 7., 4., ..., 4., 8., 8.],\n",
       "         [4., 1., 2., ..., 3., 5., 0.],\n",
       "         [7., 8., 8., ..., 8., 5., 5.]],\n",
       "\n",
       "        [[7., 1., 4., ..., 9., 8., 4.],\n",
       "         [7., 2., 9., ..., 6., 2., 0.],\n",
       "         [3., 7., 7., ..., 6., 4., 9.],\n",
       "         [5., 6., 6., ..., 4., 2., 9.],\n",
       "         [6., 5., 0., ..., 4., 8., 0.],\n",
       "         [2., 5., 1., ..., 2., 5., 6.]]]], dtype=float32)"
      ]
     },
     "execution_count": 103,
     "metadata": {},
     "output_type": "execute_result"
    }
   ],
   "source": [
    "a"
   ]
  },
  {
   "cell_type": "code",
   "execution_count": 56,
   "id": "3db64e6e",
   "metadata": {},
   "outputs": [
    {
     "data": {
      "text/plain": [
       "(10, 5, 1, 1)"
      ]
     },
     "execution_count": 56,
     "metadata": {},
     "output_type": "execute_result"
    }
   ],
   "source": [
    "b = np.zeros(shape = (10, 5, 6, 3))\n",
    "np.max(a[:, :, 1:3, 1:3], axis = (2, 3), keepdims = True).shape"
   ]
  },
  {
   "cell_type": "code",
   "execution_count": 57,
   "id": "7ad7efc1",
   "metadata": {},
   "outputs": [],
   "source": [
    "b[:, :, 1, 1] = np.max(a[:, :, 1:3, 1:3], axis = (2, 3))"
   ]
  },
  {
   "cell_type": "code",
   "execution_count": 64,
   "id": "2a6aff06",
   "metadata": {},
   "outputs": [
    {
     "data": {
      "text/plain": [
       "array([[0.96170676, 0.75269901, 0.97981527, 0.16186883, 0.802588  ],\n",
       "       [0.4597008 , 0.85032604, 0.80556084, 0.70520008, 0.73046525],\n",
       "       [0.55268279, 0.90034569, 0.79516413, 0.84382925, 0.73714192],\n",
       "       [0.74366658, 0.87209443, 0.72724993, 0.59742786, 0.68675458],\n",
       "       [0.83240537, 0.76850235, 0.95034751, 0.77147657, 0.94188299],\n",
       "       [0.80881925, 0.59212397, 0.70807615, 0.83760574, 0.65532622],\n",
       "       [0.97939185, 0.40710169, 0.82575894, 0.57960381, 0.98076573],\n",
       "       [0.71485902, 0.83163434, 0.5006412 , 0.67542118, 0.85066214],\n",
       "       [0.95298642, 0.90933102, 0.97005214, 0.96910267, 0.79876138],\n",
       "       [0.93901186, 0.7599283 , 0.79963762, 0.91965329, 0.99252497]])"
      ]
     },
     "execution_count": 64,
     "metadata": {},
     "output_type": "execute_result"
    }
   ],
   "source": [
    "b[:, :, 1, 1]"
   ]
  },
  {
   "cell_type": "code",
   "execution_count": 67,
   "id": "a80e9a48",
   "metadata": {},
   "outputs": [
    {
     "data": {
      "text/plain": [
       "array([[[[0, 0],\n",
       "         [1, 0]],\n",
       "\n",
       "        [[1, 0],\n",
       "         [0, 0]],\n",
       "\n",
       "        [[0, 1],\n",
       "         [0, 0]],\n",
       "\n",
       "        [[0, 1],\n",
       "         [0, 0]],\n",
       "\n",
       "        [[0, 0],\n",
       "         [1, 0]]],\n",
       "\n",
       "\n",
       "       [[[0, 0],\n",
       "         [0, 1]],\n",
       "\n",
       "        [[1, 0],\n",
       "         [0, 0]],\n",
       "\n",
       "        [[0, 0],\n",
       "         [0, 1]],\n",
       "\n",
       "        [[0, 1],\n",
       "         [0, 0]],\n",
       "\n",
       "        [[0, 0],\n",
       "         [1, 0]]],\n",
       "\n",
       "\n",
       "       [[[0, 1],\n",
       "         [0, 0]],\n",
       "\n",
       "        [[0, 0],\n",
       "         [0, 1]],\n",
       "\n",
       "        [[0, 0],\n",
       "         [0, 1]],\n",
       "\n",
       "        [[0, 1],\n",
       "         [0, 0]],\n",
       "\n",
       "        [[0, 0],\n",
       "         [1, 0]]],\n",
       "\n",
       "\n",
       "       [[[0, 1],\n",
       "         [0, 0]],\n",
       "\n",
       "        [[0, 1],\n",
       "         [0, 0]],\n",
       "\n",
       "        [[1, 0],\n",
       "         [0, 0]],\n",
       "\n",
       "        [[0, 1],\n",
       "         [0, 0]],\n",
       "\n",
       "        [[1, 0],\n",
       "         [0, 0]]],\n",
       "\n",
       "\n",
       "       [[[0, 1],\n",
       "         [0, 0]],\n",
       "\n",
       "        [[1, 0],\n",
       "         [0, 0]],\n",
       "\n",
       "        [[0, 0],\n",
       "         [0, 1]],\n",
       "\n",
       "        [[1, 0],\n",
       "         [0, 0]],\n",
       "\n",
       "        [[0, 0],\n",
       "         [1, 0]]],\n",
       "\n",
       "\n",
       "       [[[0, 1],\n",
       "         [0, 0]],\n",
       "\n",
       "        [[1, 0],\n",
       "         [0, 0]],\n",
       "\n",
       "        [[1, 0],\n",
       "         [0, 0]],\n",
       "\n",
       "        [[1, 0],\n",
       "         [0, 0]],\n",
       "\n",
       "        [[0, 1],\n",
       "         [0, 0]]],\n",
       "\n",
       "\n",
       "       [[[0, 1],\n",
       "         [0, 0]],\n",
       "\n",
       "        [[0, 1],\n",
       "         [0, 0]],\n",
       "\n",
       "        [[1, 0],\n",
       "         [0, 0]],\n",
       "\n",
       "        [[0, 0],\n",
       "         [1, 0]],\n",
       "\n",
       "        [[0, 1],\n",
       "         [0, 0]]],\n",
       "\n",
       "\n",
       "       [[[0, 1],\n",
       "         [0, 0]],\n",
       "\n",
       "        [[0, 1],\n",
       "         [0, 0]],\n",
       "\n",
       "        [[0, 0],\n",
       "         [1, 0]],\n",
       "\n",
       "        [[0, 0],\n",
       "         [0, 1]],\n",
       "\n",
       "        [[0, 0],\n",
       "         [0, 1]]],\n",
       "\n",
       "\n",
       "       [[[1, 0],\n",
       "         [0, 0]],\n",
       "\n",
       "        [[0, 1],\n",
       "         [0, 0]],\n",
       "\n",
       "        [[1, 0],\n",
       "         [0, 0]],\n",
       "\n",
       "        [[0, 0],\n",
       "         [0, 1]],\n",
       "\n",
       "        [[0, 0],\n",
       "         [0, 1]]],\n",
       "\n",
       "\n",
       "       [[[0, 1],\n",
       "         [0, 0]],\n",
       "\n",
       "        [[1, 0],\n",
       "         [0, 0]],\n",
       "\n",
       "        [[0, 0],\n",
       "         [0, 1]],\n",
       "\n",
       "        [[1, 0],\n",
       "         [0, 0]],\n",
       "\n",
       "        [[1, 0],\n",
       "         [0, 0]]]])"
      ]
     },
     "execution_count": 67,
     "metadata": {},
     "output_type": "execute_result"
    }
   ],
   "source": [
    "(a[:, :, 1:3, 1:3] == b[:, :, 1, 1].reshape(10, 5, 1, 1)).astype(int)"
   ]
  },
  {
   "cell_type": "code",
   "execution_count": 38,
   "id": "c9a992b2",
   "metadata": {},
   "outputs": [
    {
     "data": {
      "text/plain": [
       "array([0.6351941 , 0.59415432, 0.70517087, 0.0690868 , 0.00242459,\n",
       "       0.22525423, 0.76530455, 0.04395865, 0.47152878, 0.85251169,\n",
       "       0.92500746, 0.00973075, 0.9572178 , 0.05725347, 0.07306327,\n",
       "       0.81297587])"
      ]
     },
     "execution_count": 38,
     "metadata": {},
     "output_type": "execute_result"
    }
   ],
   "source": [
    "a.flatten()"
   ]
  },
  {
   "cell_type": "code",
   "execution_count": 39,
   "id": "92d00811",
   "metadata": {},
   "outputs": [
    {
     "data": {
      "text/plain": [
       "array([[[[0.6351941 , 0.59415432],\n",
       "         [0.70517087, 0.0690868 ]],\n",
       "\n",
       "        [[0.00242459, 0.22525423],\n",
       "         [0.76530455, 0.04395865]]],\n",
       "\n",
       "\n",
       "       [[[0.47152878, 0.85251169],\n",
       "         [0.92500746, 0.00973075]],\n",
       "\n",
       "        [[0.9572178 , 0.05725347],\n",
       "         [0.07306327, 0.81297587]]]])"
      ]
     },
     "execution_count": 39,
     "metadata": {},
     "output_type": "execute_result"
    }
   ],
   "source": [
    "a"
   ]
  },
  {
   "cell_type": "code",
   "execution_count": 68,
   "id": "02536911",
   "metadata": {},
   "outputs": [],
   "source": [
    "ind = np.unravel_index(np.argmax(a, axis=None), a.shape)"
   ]
  },
  {
   "cell_type": "code",
   "execution_count": 69,
   "id": "88da2c0f",
   "metadata": {},
   "outputs": [
    {
     "data": {
      "text/plain": [
       "(9, 1, 2, 3)"
      ]
     },
     "execution_count": 69,
     "metadata": {},
     "output_type": "execute_result"
    }
   ],
   "source": [
    "ind"
   ]
  },
  {
   "cell_type": "code",
   "execution_count": 75,
   "id": "e27b060c",
   "metadata": {},
   "outputs": [],
   "source": [
    "a = np.array([[[2.0, 2.0], [3.0, 1.0]]])"
   ]
  },
  {
   "cell_type": "code",
   "execution_count": 76,
   "id": "21ed75ec",
   "metadata": {},
   "outputs": [],
   "source": [
    "ind = np.unravel_index(np.argmax(a, axis=None), a.shape)"
   ]
  },
  {
   "cell_type": "code",
   "execution_count": 77,
   "id": "4658ea3e",
   "metadata": {},
   "outputs": [
    {
     "data": {
      "text/plain": [
       "(0, 1, 0)"
      ]
     },
     "execution_count": 77,
     "metadata": {},
     "output_type": "execute_result"
    }
   ],
   "source": [
    "\n",
    "ind"
   ]
  },
  {
   "cell_type": "code",
   "execution_count": 78,
   "id": "498c5826",
   "metadata": {},
   "outputs": [
    {
     "data": {
      "text/plain": [
       "array([[[2., 2.],\n",
       "        [3., 1.]]])"
      ]
     },
     "execution_count": 78,
     "metadata": {},
     "output_type": "execute_result"
    }
   ],
   "source": [
    "a"
   ]
  },
  {
   "cell_type": "code",
   "execution_count": 104,
   "id": "992d3ab3",
   "metadata": {},
   "outputs": [],
   "source": [
    "p_max = a[:, :, 1:3, 1:3].max(axis = (2, 3))"
   ]
  },
  {
   "cell_type": "code",
   "execution_count": 105,
   "id": "235cffd1",
   "metadata": {},
   "outputs": [
    {
     "data": {
      "text/plain": [
       "(10, 5)"
      ]
     },
     "execution_count": 105,
     "metadata": {},
     "output_type": "execute_result"
    }
   ],
   "source": [
    "p_max.shape"
   ]
  },
  {
   "cell_type": "code",
   "execution_count": 106,
   "id": "e01efa76",
   "metadata": {},
   "outputs": [],
   "source": [
    "k = np.where(a[:, :, 1:3, 1:3] == p_max.reshape(10, 5, 1, 1))"
   ]
  },
  {
   "cell_type": "code",
   "execution_count": 107,
   "id": "51c3eb25",
   "metadata": {},
   "outputs": [
    {
     "data": {
      "text/plain": [
       "(array([0, 0, 0, 0, 0, 0, 1, 1, 1, 1, 1, 1, 1, 2, 2, 2, 2, 2, 3, 3, 3, 3,\n",
       "        3, 3, 4, 4, 4, 4, 4, 4, 4, 5, 5, 5, 5, 5, 5, 5, 6, 6, 6, 6, 6, 7,\n",
       "        7, 7, 7, 7, 7, 7, 8, 8, 8, 8, 8, 8, 9, 9, 9, 9, 9]),\n",
       " array([0, 1, 1, 2, 3, 4, 0, 1, 1, 2, 3, 3, 4, 0, 1, 2, 3, 4, 0, 1, 2, 2,\n",
       "        3, 4, 0, 0, 0, 1, 2, 3, 4, 0, 1, 2, 2, 2, 3, 4, 0, 1, 2, 3, 4, 0,\n",
       "        0, 1, 1, 2, 3, 4, 0, 1, 2, 3, 3, 4, 0, 1, 2, 3, 4]),\n",
       " array([0, 1, 1, 1, 0, 0, 0, 0, 1, 0, 0, 1, 0, 1, 1, 0, 1, 1, 1, 1, 1, 1,\n",
       "        1, 0, 0, 0, 1, 1, 1, 1, 0, 1, 0, 0, 0, 1, 1, 0, 0, 1, 0, 0, 0, 0,\n",
       "        1, 1, 1, 0, 0, 1, 0, 0, 1, 0, 0, 0, 1, 1, 1, 1, 0]),\n",
       " array([1, 0, 1, 1, 1, 0, 0, 0, 1, 0, 1, 0, 1, 1, 0, 0, 1, 0, 0, 0, 0, 1,\n",
       "        0, 1, 0, 1, 1, 0, 0, 0, 0, 1, 0, 0, 1, 1, 1, 0, 0, 1, 0, 1, 0, 0,\n",
       "        1, 0, 1, 1, 1, 0, 1, 1, 1, 0, 1, 0, 0, 1, 1, 0, 1]))"
      ]
     },
     "execution_count": 107,
     "metadata": {},
     "output_type": "execute_result"
    }
   ],
   "source": [
    "k"
   ]
  },
  {
   "cell_type": "code",
   "execution_count": 112,
   "id": "172a1f17",
   "metadata": {},
   "outputs": [
    {
     "data": {
      "text/plain": [
       "array([[8., 3.],\n",
       "       [4., 9.]], dtype=float32)"
      ]
     },
     "execution_count": 112,
     "metadata": {},
     "output_type": "execute_result"
    }
   ],
   "source": [
    "a[2, 3, 1:3, 1:3]"
   ]
  },
  {
   "cell_type": "code",
   "execution_count": 113,
   "id": "96a1785f",
   "metadata": {},
   "outputs": [],
   "source": [
    "a[2, 3, 1, 1] = 9.0"
   ]
  },
  {
   "cell_type": "code",
   "execution_count": 114,
   "id": "b8e2fc54",
   "metadata": {},
   "outputs": [
    {
     "data": {
      "text/plain": [
       "array([[9., 3.],\n",
       "       [4., 9.]], dtype=float32)"
      ]
     },
     "execution_count": 114,
     "metadata": {},
     "output_type": "execute_result"
    }
   ],
   "source": [
    "a[2, 3, 1:3, 1:3]"
   ]
  },
  {
   "cell_type": "code",
   "execution_count": 115,
   "id": "e1704dac",
   "metadata": {},
   "outputs": [
    {
     "data": {
      "text/plain": [
       "array([[ True, False],\n",
       "       [False,  True]])"
      ]
     },
     "execution_count": 115,
     "metadata": {},
     "output_type": "execute_result"
    }
   ],
   "source": [
    "a[2, 3, 1:3, 1:3] == p_max[2, 3]"
   ]
  },
  {
   "cell_type": "code",
   "execution_count": 117,
   "id": "b2fbfcd5",
   "metadata": {},
   "outputs": [],
   "source": [
    "ind = np.where(a[2, 3, 1:3, 1:3] == p_max[2, 3])"
   ]
  },
  {
   "cell_type": "code",
   "execution_count": 129,
   "id": "0ba4cec1",
   "metadata": {},
   "outputs": [],
   "source": [
    "x_indices = ind[0]\n",
    "y_indices = ind[1]"
   ]
  },
  {
   "cell_type": "code",
   "execution_count": 132,
   "id": "f60bad9f",
   "metadata": {},
   "outputs": [],
   "source": [
    "first_index = (x_indices[0] + 1, y_indices[0] + 1)"
   ]
  },
  {
   "cell_type": "code",
   "execution_count": 133,
   "id": "e80af046",
   "metadata": {},
   "outputs": [
    {
     "data": {
      "text/plain": [
       "(1, 1)"
      ]
     },
     "execution_count": 133,
     "metadata": {},
     "output_type": "execute_result"
    }
   ],
   "source": [
    "first_index"
   ]
  },
  {
   "cell_type": "code",
   "execution_count": 134,
   "id": "9b23c7bd",
   "metadata": {},
   "outputs": [],
   "source": [
    "a[2, 3, *first_index] = 98"
   ]
  },
  {
   "cell_type": "code",
   "execution_count": 135,
   "id": "944ca3ea",
   "metadata": {},
   "outputs": [
    {
     "data": {
      "text/plain": [
       "array([[98.,  3.],\n",
       "       [ 4.,  9.]], dtype=float32)"
      ]
     },
     "execution_count": 135,
     "metadata": {},
     "output_type": "execute_result"
    }
   ],
   "source": [
    "a[2, 3, 1:3, 1:3]"
   ]
  },
  {
   "cell_type": "code",
   "execution_count": null,
   "id": "dbdba06f",
   "metadata": {},
   "outputs": [],
   "source": []
  }
 ],
 "metadata": {
  "kernelspec": {
   "display_name": "ML",
   "language": "python",
   "name": "ml"
  },
  "language_info": {
   "codemirror_mode": {
    "name": "ipython",
    "version": 3
   },
   "file_extension": ".py",
   "mimetype": "text/x-python",
   "name": "python",
   "nbconvert_exporter": "python",
   "pygments_lexer": "ipython3",
   "version": "3.11.3"
  }
 },
 "nbformat": 4,
 "nbformat_minor": 5
}
