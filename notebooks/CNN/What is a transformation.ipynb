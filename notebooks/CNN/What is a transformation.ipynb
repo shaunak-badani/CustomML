{
 "cells": [
  {
   "cell_type": "code",
   "execution_count": 8,
   "id": "e04bf9f7",
   "metadata": {},
   "outputs": [],
   "source": [
    "import numpy as np\n",
    "from torchvision import transforms\n",
    "import torch\n",
    "import matplotlib.pyplot as plt\n",
    "from PIL import Image"
   ]
  },
  {
   "cell_type": "code",
   "execution_count": 54,
   "id": "6e380bfe",
   "metadata": {},
   "outputs": [],
   "source": [
    "image = (255 * np.random.random((32, 32, 3))).round().astype('uint8') # generate some random image"
   ]
  },
  {
   "cell_type": "code",
   "execution_count": 58,
   "id": "f008f6ef",
   "metadata": {},
   "outputs": [],
   "source": [
    "PIL_image = Image.fromarray(image)"
   ]
  },
  {
   "cell_type": "code",
   "execution_count": 60,
   "id": "20fb17dc",
   "metadata": {},
   "outputs": [
    {
     "data": {
      "image/png": "[encoded data removed]",
      "text/plain": [
       "<PIL.Image.Image image mode=RGB size=32x32>"
      ]
     },
     "execution_count": 60,
     "metadata": {},
     "output_type": "execute_result"
    }
   ],
   "source": [
    "PIL_image"
   ]
  },
  {
   "cell_type": "code",
   "execution_count": 61,
   "id": "09e07ee9",
   "metadata": {},
   "outputs": [],
   "source": [
    "PIL_image_alt_init = Image.new('RGB', (32, 32), color = '#564354')"
   ]
  },
  {
   "cell_type": "code",
   "execution_count": 62,
   "id": "50fecefd",
   "metadata": {},
   "outputs": [
    {
     "data": {
      "image/png": "[encoded data removed]",
      "text/plain": [
       "<PIL.Image.Image image mode=RGB size=32x32>"
      ]
     },
     "execution_count": 62,
     "metadata": {},
     "output_type": "execute_result"
    }
   ],
   "source": [
    "PIL_image_alt_init"
   ]
  },
  {
   "cell_type": "code",
   "execution_count": 6,
   "id": "88356dc8",
   "metadata": {},
   "outputs": [],
   "source": [
    "transform = transforms.Compose([transforms.ToTensor()])"
   ]
  },
  {
   "cell_type": "code",
   "execution_count": 63,
   "id": "b0e7888b",
   "metadata": {},
   "outputs": [],
   "source": [
    "tensor_img = transform(Image.fromarray(image))"
   ]
  },
  {
   "cell_type": "code",
   "execution_count": 64,
   "id": "efb4095e",
   "metadata": {},
   "outputs": [
    {
     "data": {
      "text/plain": [
       "tensor([[[0.8353, 0.6000, 0.2039,  ..., 0.0667, 0.7098, 0.1294],\n",
       "         [0.5804, 0.9098, 0.3255,  ..., 0.1804, 0.7216, 0.0667],\n",
       "         [0.1451, 0.9412, 0.0078,  ..., 0.6510, 0.8980, 0.1176],\n",
       "         ...,\n",
       "         [0.8471, 0.0980, 0.3490,  ..., 0.0118, 0.9961, 0.4118],\n",
       "         [0.5176, 0.9176, 0.4392,  ..., 0.0902, 0.5059, 0.6431],\n",
       "         [0.9922, 0.0549, 0.4588,  ..., 0.5843, 0.6510, 0.1137]],\n",
       "\n",
       "        [[0.2588, 0.0000, 0.7373,  ..., 0.1725, 0.0941, 0.4863],\n",
       "         [0.0667, 0.0745, 0.2941,  ..., 0.1176, 0.4706, 0.6510],\n",
       "         [0.2863, 0.4745, 0.7804,  ..., 0.9922, 0.9020, 0.5804],\n",
       "         ...,\n",
       "         [0.0667, 0.3451, 0.4706,  ..., 0.2667, 0.0275, 0.5451],\n",
       "         [0.5647, 0.5961, 0.0000,  ..., 0.8314, 0.9216, 0.1529],\n",
       "         [0.4000, 0.6549, 0.9020,  ..., 0.4588, 0.8000, 0.1490]],\n",
       "\n",
       "        [[0.5412, 0.8000, 0.1098,  ..., 0.7412, 0.8196, 0.4196],\n",
       "         [0.1961, 0.6078, 0.1412,  ..., 0.1020, 0.5255, 0.6196],\n",
       "         [0.8118, 0.8902, 0.5294,  ..., 0.4353, 0.6392, 0.0078],\n",
       "         ...,\n",
       "         [0.8667, 0.8353, 0.3686,  ..., 0.9882, 0.8000, 0.5804],\n",
       "         [0.6980, 0.2118, 0.0353,  ..., 0.6000, 0.5608, 0.1216],\n",
       "         [0.7922, 0.2706, 0.4510,  ..., 0.3333, 0.2510, 0.5608]]])"
      ]
     },
     "execution_count": 64,
     "metadata": {},
     "output_type": "execute_result"
    }
   ],
   "source": [
    "tensor_img"
   ]
  },
  {
   "cell_type": "markdown",
   "id": "0712b65d",
   "metadata": {},
   "source": [
    "## Checking to see if the following formula is correct : \n",
    "\n",
    " transpose((256 * transform(image).numpy()), (1, 2, 0) == PIL_image.numpy() "
   ]
  },
  {
   "cell_type": "code",
   "execution_count": 76,
   "id": "f57e6da2",
   "metadata": {},
   "outputs": [],
   "source": [
    "val1 = np.floor(np.transpose((256 * tensor_img).numpy(), (1, 2, 0)))\n",
    "val2 = np.asarray(PIL_image)"
   ]
  },
  {
   "cell_type": "code",
   "execution_count": 77,
   "id": "3e50097b",
   "metadata": {},
   "outputs": [
    {
     "data": {
      "text/plain": [
       "1.4142135"
      ]
     },
     "execution_count": 77,
     "metadata": {},
     "output_type": "execute_result"
    }
   ],
   "source": [
    "np.linalg.norm(val1 - val2)"
   ]
  },
  {
   "cell_type": "code",
   "execution_count": 81,
   "id": "bcc0ec0f",
   "metadata": {},
   "outputs": [
    {
     "data": {
      "text/plain": [
       "(32, 32, 3)"
      ]
     },
     "execution_count": 81,
     "metadata": {},
     "output_type": "execute_result"
    }
   ],
   "source": [
    "val2.shape"
   ]
  },
  {
   "cell_type": "markdown",
   "id": "e4b0680a",
   "metadata": {},
   "source": [
    "ToTensor does the following : \n",
    "* changes the image from (3, 32, 32) to (32, 32, 3)\n",
    "* Divides values by 256, and floors to nearest integer"
   ]
  },
  {
   "cell_type": "markdown",
   "id": "52a9cc76",
   "metadata": {},
   "source": [
    "### From docs \n",
    "> Convert a PIL Image or ndarray to tensor and scale the values accordingly. <br />\n",
    "This transform does not support torchscript. <br /> Converts a PIL Image or numpy.ndarray (H x W x C) in the range [0, 255] to a torch.FloatTensor of shape (C x H x W) in the range [0.0, 1.0] if the PIL Image belongs to one of the modes (L, LA, P, I, F, RGB, YCbCr, RGBA, CMYK, 1) or if the numpy.ndarray has dtype = np.uint8. <br />In the other cases, tensors are returned without scaling."
   ]
  },
  {
   "cell_type": "markdown",
   "id": "2f7d01b8",
   "metadata": {},
   "source": [
    "# What is normalize?"
   ]
  },
  {
   "cell_type": "code",
   "execution_count": 82,
   "id": "a71ee787",
   "metadata": {},
   "outputs": [],
   "source": [
    "transform_normalize = transforms.Compose([transforms.Normalize((0.5, 0.5, 0.5), (0.5, 0.5, 0.5))])"
   ]
  },
  {
   "cell_type": "code",
   "execution_count": 85,
   "id": "f652a9e3",
   "metadata": {},
   "outputs": [],
   "source": [
    "normalized_image = transform_normalize(tensor_img)"
   ]
  },
  {
   "cell_type": "code",
   "execution_count": 86,
   "id": "ad3e9651",
   "metadata": {},
   "outputs": [
    {
     "data": {
      "text/plain": [
       "torch.Size([3, 32, 32])"
      ]
     },
     "execution_count": 86,
     "metadata": {},
     "output_type": "execute_result"
    }
   ],
   "source": [
    "normalized_image.shape"
   ]
  },
  {
   "cell_type": "code",
   "execution_count": 88,
   "id": "c82e3fa2",
   "metadata": {},
   "outputs": [
    {
     "data": {
      "text/plain": [
       "torch.Size([3, 32, 32])"
      ]
     },
     "execution_count": 88,
     "metadata": {},
     "output_type": "execute_result"
    }
   ],
   "source": [
    "tensor_img.shape"
   ]
  },
  {
   "cell_type": "code",
   "execution_count": 97,
   "id": "43af4e1f",
   "metadata": {},
   "outputs": [],
   "source": [
    "mean = (0.5, 0.5, 0.5)\n",
    "std = (0.5, 0.5, 0.5)\n",
    "tensor_mean = np.array(mean).reshape((-1, 1, 1))\n",
    "tensor_std = np.array(std).reshape((-1, 1, 1))\n",
    "transformed_tensor = (tensor_img - tensor_mean) / tensor_std"
   ]
  },
  {
   "cell_type": "code",
   "execution_count": 101,
   "id": "6124db9b",
   "metadata": {},
   "outputs": [
    {
     "data": {
      "text/plain": [
       "6.343838238799516e-07"
      ]
     },
     "execution_count": 101,
     "metadata": {},
     "output_type": "execute_result"
    }
   ],
   "source": [
    "np.linalg.norm(transformed_tensor - normalized_image)"
   ]
  }
 ],
 "metadata": {
  "kernelspec": {
   "display_name": "ML",
   "language": "python",
   "name": "ml"
  },
  "language_info": {
   "codemirror_mode": {
    "name": "ipython",
    "version": 3
   },
   "file_extension": ".py",
   "mimetype": "text/x-python",
   "name": "python",
   "nbconvert_exporter": "python",
   "pygments_lexer": "ipython3",
   "version": "3.11.3"
  }
 },
 "nbformat": 4,
 "nbformat_minor": 5
}
