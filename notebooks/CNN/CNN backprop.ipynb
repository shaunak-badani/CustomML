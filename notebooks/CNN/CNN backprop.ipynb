{
 "cells": [
  {
   "cell_type": "code",
   "execution_count": 1,
   "id": "302f714b",
   "metadata": {},
   "outputs": [],
   "source": [
    "import torchvision\n",
    "import torch\n",
    "import torch.nn as nn\n",
    "\n",
    "import matplotlib.pyplot as plt\n",
    "import numpy as np"
   ]
  },
  {
   "cell_type": "markdown",
   "id": "1f9ab0ba",
   "metadata": {},
   "source": [
    "### Torch implementation of conv 2d"
   ]
  },
  {
   "cell_type": "code",
   "execution_count": 7,
   "id": "b08e41da",
   "metadata": {},
   "outputs": [],
   "source": [
    "C_out = 2\n",
    "C_in = 3\n",
    "K = 3\n",
    "stride = 1\n",
    "W = 32\n",
    "H = 32\n",
    "# With square kernels and equal stride\n",
    "m = nn.Conv2d(C_in, C_out, K, stride=stride, bias = False)\n",
    "# non-square kernels and unequal stride and with padding\n",
    "# m = nn.Conv2d(16, 33, (3, 5), stride=(2, 1), padding=(4, 2))\n",
    "# non-square kernels and unequal stride and with padding and dilation\n",
    "# m = nn.Conv2d(16, 33, (3, 5), stride=(2, 1), padding=(4, 2), dilation=(3, 1))\n",
    "\n",
    "test_input = torch.randn(1, C_in, W, H)\n",
    "output = m(test_input)"
   ]
  },
  {
   "cell_type": "code",
   "execution_count": 8,
   "id": "d5ec0248",
   "metadata": {},
   "outputs": [
    {
     "data": {
      "text/plain": [
       "torch.Size([1, 2, 30, 30])"
      ]
     },
     "execution_count": 8,
     "metadata": {},
     "output_type": "execute_result"
    }
   ],
   "source": [
    "output.shape"
   ]
  },
  {
   "cell_type": "code",
   "execution_count": 9,
   "id": "d3d2527c",
   "metadata": {},
   "outputs": [
    {
     "data": {
      "text/plain": [
       "torch.Size([1, 3, 32, 32])"
      ]
     },
     "execution_count": 9,
     "metadata": {},
     "output_type": "execute_result"
    }
   ],
   "source": [
    "test_input.shape"
   ]
  },
  {
   "cell_type": "markdown",
   "id": "874f6536",
   "metadata": {},
   "source": [
    "### Testing if the code implemented in Pavan sir's class is the same as conv2d"
   ]
  },
  {
   "cell_type": "code",
   "execution_count": 10,
   "id": "7ae34e1f",
   "metadata": {},
   "outputs": [],
   "source": [
    "image = test_input[0].detach().numpy()\n",
    "C, W, H = image.shape\n",
    "D = np.array([C_in * K * K, C_out])\n",
    "L = D.size\n",
    "\n",
    "w0 = [np.random.random(size = (D[d_l], D[d_l + 1])) for d_l in range(L - 1)]\n",
    "w = next(iter(m.parameters())).detach().numpy()\n",
    "Y = np.zeros(shape = (C_out, W - K + 1, H - K + 1))"
   ]
  },
  {
   "cell_type": "code",
   "execution_count": 17,
   "id": "668a1f5b",
   "metadata": {},
   "outputs": [
    {
     "data": {
      "text/plain": [
       "(1, (27, 2))"
      ]
     },
     "execution_count": 17,
     "metadata": {},
     "output_type": "execute_result"
    }
   ],
   "source": [
    "len(w0), w0[0].shape"
   ]
  },
  {
   "cell_type": "code",
   "execution_count": 18,
   "id": "316d5981",
   "metadata": {},
   "outputs": [
    {
     "data": {
      "text/plain": [
       "(2, 3, 3, 3)"
      ]
     },
     "execution_count": 18,
     "metadata": {},
     "output_type": "execute_result"
    }
   ],
   "source": [
    "w.shape"
   ]
  },
  {
   "cell_type": "code",
   "execution_count": 11,
   "id": "dd06bfd1",
   "metadata": {},
   "outputs": [],
   "source": [
    "for C_j in range(C_out):\n",
    "    for x in range(W - K + 1):\n",
    "        for y in range(H - K + 1):\n",
    "                for i in range(C_in):\n",
    "                    Y[C_j][x][y] = np.sum(w[C_j] * image[:, x:x + K, y:y + K])"
   ]
  },
  {
   "cell_type": "code",
   "execution_count": 12,
   "id": "ed7bb157",
   "metadata": {},
   "outputs": [
    {
     "name": "stdout",
     "output_type": "stream",
     "text": [
      "torch.Size([2, 3, 3, 3])\n"
     ]
    }
   ],
   "source": [
    "for weight in m.parameters():\n",
    "    print(weight.shape)"
   ]
  },
  {
   "cell_type": "code",
   "execution_count": 19,
   "id": "04b16f4f",
   "metadata": {},
   "outputs": [
    {
     "data": {
      "text/plain": [
       "(2, 30, 30)"
      ]
     },
     "execution_count": 19,
     "metadata": {},
     "output_type": "execute_result"
    }
   ],
   "source": [
    "Y.shape"
   ]
  },
  {
   "cell_type": "code",
   "execution_count": 14,
   "id": "bbf83296",
   "metadata": {},
   "outputs": [],
   "source": [
    "output_pytorch = output.detach().numpy()"
   ]
  },
  {
   "cell_type": "code",
   "execution_count": 15,
   "id": "60b1e33e",
   "metadata": {},
   "outputs": [
    {
     "data": {
      "text/plain": [
       "2.4901573357176675e-06"
      ]
     },
     "execution_count": 15,
     "metadata": {},
     "output_type": "execute_result"
    }
   ],
   "source": [
    "np.linalg.norm(Y - output_pytorch)"
   ]
  }
 ],
 "metadata": {
  "kernelspec": {
   "display_name": "ML",
   "language": "python",
   "name": "ml"
  },
  "language_info": {
   "codemirror_mode": {
    "name": "ipython",
    "version": 3
   },
   "file_extension": ".py",
   "mimetype": "text/x-python",
   "name": "python",
   "nbconvert_exporter": "python",
   "pygments_lexer": "ipython3",
   "version": "3.11.3"
  }
 },
 "nbformat": 4,
 "nbformat_minor": 5
}
