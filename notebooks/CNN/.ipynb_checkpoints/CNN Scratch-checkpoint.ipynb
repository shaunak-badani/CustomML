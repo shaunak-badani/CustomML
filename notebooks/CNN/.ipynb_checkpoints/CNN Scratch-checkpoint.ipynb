{
 "cells": [
  {
   "cell_type": "code",
   "execution_count": 1,
   "id": "23fbacc2",
   "metadata": {},
   "outputs": [],
   "source": [
    "import torch\n",
    "import torchvision\n",
    "import torchvision.transforms as transforms\n",
    "import numpy as np\n",
    "import torch.nn as nn"
   ]
  },
  {
   "cell_type": "code",
   "execution_count": 2,
   "id": "46a0f4a7",
   "metadata": {},
   "outputs": [],
   "source": [
    "debug_mode = True"
   ]
  },
  {
   "cell_type": "code",
   "execution_count": 3,
   "id": "540f44fe",
   "metadata": {},
   "outputs": [
    {
     "name": "stdout",
     "output_type": "stream",
     "text": [
      "Files already downloaded and verified\n",
      "Files already downloaded and verified\n"
     ]
    }
   ],
   "source": [
    "transform = transforms.Compose(\n",
    "    [transforms.ToTensor(),\n",
    "     transforms.Normalize((0.5, 0.5, 0.5), (0.5, 0.5, 0.5))])\n",
    "\n",
    "batch_size = 4\n",
    "\n",
    "trainset = torchvision.datasets.CIFAR10(root='../data', train=True,\n",
    "                                        download=True, transform=transform)\n",
    "trainloader = torch.utils.data.DataLoader(trainset, batch_size=batch_size,\n",
    "                                          shuffle=True, num_workers=2)\n",
    "\n",
    "testset = torchvision.datasets.CIFAR10(root='../data', train=False,\n",
    "                                       download=True, transform=transform)\n",
    "testloader = torch.utils.data.DataLoader(testset, batch_size=batch_size,\n",
    "                                         shuffle=False, num_workers=2)\n",
    "\n",
    "classes = ('plane', 'car', 'bird', 'cat',\n",
    "           'deer', 'dog', 'frog', 'horse', 'ship', 'truck')"
   ]
  },
  {
   "cell_type": "code",
   "execution_count": 4,
   "id": "fcc80a5a",
   "metadata": {},
   "outputs": [],
   "source": [
    "class Value:\n",
    "    \n",
    "    def __init__(self, data, _children = (), _op='', label = ''):\n",
    "        self.data = data\n",
    "        self._prev = set(_children)\n",
    "        self._op = _op\n",
    "        self.label = label\n",
    "        self._backward = lambda: None\n",
    "        self.grad = np.zeros_like(self.data, dtype = np.float64)\n",
    "    \n",
    "    def zero_grad(self):\n",
    "        self.grad[:] = 0.0\n",
    "        for child in self._prev:\n",
    "            child.zero_grad()"
   ]
  },
  {
   "cell_type": "code",
   "execution_count": 5,
   "id": "fdd5666e",
   "metadata": {},
   "outputs": [],
   "source": [
    "class BuildingBlock:\n",
    "    \n",
    "    # Must override\n",
    "    def __init__(self):\n",
    "        pass\n",
    "    \n",
    "    # Must override, return Value object\n",
    "    def __call__(self, *args, **kwargs):\n",
    "        out = Value(output_array, tuple(args), 'default')\n",
    "        out._backward = self.getBackwardFunction(out, *args, **kwargs)\n",
    "        return out\n",
    "    \n",
    "    # Must override, return function for backpropagation\n",
    "    def getBackwardFunction(self, out, *args, **kwargs):\n",
    "        def _backward():\n",
    "            print(\"Default backward function called. Please define backward function for this neuron\")\n",
    "        return _backward\n",
    "    \n",
    "    # Must override,return learnable parameters\n",
    "    def getLearnableParameters(self):\n",
    "        return []"
   ]
  },
  {
   "cell_type": "code",
   "execution_count": 6,
   "id": "b95efb7c",
   "metadata": {},
   "outputs": [],
   "source": [
    "class Convolve(BuildingBlock):\n",
    "    \n",
    "    def __init__(self, in_channels, out_channels, kernel_size, *args, **kwargs):\n",
    "        if isinstance(kernel_size, int):\n",
    "            kernel_size = (kernel_size, kernel_size)\n",
    "        \n",
    "        assert isinstance(kernel_size, tuple), \"Kernel size must be either integer or tuple\"\n",
    "        \n",
    "        assert len(kernel_size) == 2, \"Kernel size must be 2\"\n",
    "        \n",
    "        assert isinstance(out_channels, int), \"out_channels must be of type int\"\n",
    "        \n",
    "        assert isinstance(in_channels, int), \"out_channels must be of type int\"\n",
    "        \n",
    "        self.kernel = Value(np.random.random(size = (out_channels, in_channels, *kernel_size)))\n",
    "            \n",
    "        super().__init__(*args, **kwargs)\n",
    "        \n",
    "    def getLearnableParameters(self):\n",
    "        return [self.kernel]\n",
    "        \n",
    "    def __call__(self, imageToBeConvoluted):\n",
    "        kernel = self.kernel\n",
    "        \n",
    "        assert len(imageToBeConvoluted.data.shape) == 4, \"Convolving tensors with shape 4 ONLY\"\n",
    "    \n",
    "        \n",
    "        N, C_in, W, H = imageToBeConvoluted.data.shape\n",
    "        C_out, C_in_expected, Kx, Ky = kernel.data.shape\n",
    "        \n",
    "        assert C_in == C_in_expected, \"Input channels must be equal to ones declared at object initialization\"\n",
    "        \n",
    "        \n",
    "        output_array = np.zeros(shape = (N, C_out, W - Kx + 1, H - Ky + 1))\n",
    "        \n",
    "        for c in range(C_out):\n",
    "            for x in range(W - Kx + 1):\n",
    "                for y in range(H - Ky + 1):\n",
    "                    output_array[:, c, x, y] = np.sum(imageToBeConvoluted.data[:, :, x:x + Kx, y:y + Ky] * kernel.data[c], axis = (1, 2, 3))\n",
    "                \n",
    "        out = Value(output_array, (imageToBeConvoluted, kernel), 'convolve')\n",
    "        out._backward = self.getBackwardFunction(out, imageToBeConvoluted)\n",
    "        return out\n",
    "        \n",
    "    def getBackwardFunction(self, out, imageToBeConvoluted):\n",
    "        kernel = self.kernel\n",
    "        \n",
    "        N, C_in, W, H = imageToBeConvoluted.data.shape\n",
    "        C_out, C_in_expected, Kx, Ky = kernel.data.shape\n",
    "        \n",
    "        def _backward():\n",
    "            for c in range(C_out):\n",
    "                for i in range(Kx):\n",
    "                    for j in range(Ky):\n",
    "                        # val1 = out.grad[:, c:c+1] is of shape (N, 1, W - Kx + 1, H - Ky + 1)\n",
    "                        # val2 = imageInput.data[:, :, i: i + W - Kx + 1, j: j + H - Ky + 1] \n",
    "                        # is of shape (N,C_in, W - Kx + 1, H - Ky + 1)\n",
    "                        # \n",
    "                        # val1 * val2 will give us a broadcasted vector of shape (N, C_in, W - Kx + 1, H - Ky + 1)\n",
    "                        # sum of this value across axes (0, 2, 3) will give us the gradient vector of length C_in\n",
    "                        # kernel.grad[c, :, i, j] is a vector of shape c_in\n",
    "                        val1 = out.grad[:, c:c + 1]\n",
    "                        val2 = imageToBeConvoluted.data[:, :, i:i + W - Kx + 1, j:j + H - Ky + 1]\n",
    "                        kernel.grad[c, :, i, j] += np.sum(val1 * val2, axis = (0, 2, 3))\n",
    "                        \n",
    "            \n",
    "            for c in range(C_out):\n",
    "                for i in range(W - Kx + 1):\n",
    "                    for j in range(H - Ky + 1):\n",
    "                        # val1 = out.grad[:, c:c+1, i:i + 1, j:j + 1] is a vector of shape (N, 1, 1, 1)\n",
    "                        # val2 = kernel.data[c:c+1] is a vector of shape (1, C_in, Kx, Ky)\n",
    "                        # val1 * val2 would be a vector of shape (N, C_in, Kx, Ky)\n",
    "                        # add that to image.grad[:, :, i:i + Kx, j:j + Ky]\n",
    "                        val1 = out.grad[:, c:c+1, i:i + 1, j:j + 1]\n",
    "                        val2 = kernel.data[c:c+1]\n",
    "                        imageToBeConvoluted.grad[:, :, i:i + Kx, j:j + Ky] += val1 * val2\n",
    "        return _backward"
   ]
  },
  {
   "cell_type": "code",
   "execution_count": 7,
   "id": "77a81f97",
   "metadata": {},
   "outputs": [],
   "source": [
    "if debug_mode:\n",
    "    C_out = 4\n",
    "    C_in = 3\n",
    "    K = 3\n",
    "    stride = 1\n",
    "    W = 32\n",
    "    H = 32\n",
    "    N = 4\n",
    "\n",
    "    test_input = torch.randn(N, C_in, W, H)\n",
    "    m = nn.Conv2d(C_in, C_out, K, stride = stride, bias = False)\n",
    "    output = m(test_input)"
   ]
  },
  {
   "cell_type": "code",
   "execution_count": 8,
   "id": "9373fd3a",
   "metadata": {},
   "outputs": [
    {
     "name": "stdout",
     "output_type": "stream",
     "text": [
      "(4, 4, 30, 30)\n",
      "7.44420207734223e-06\n"
     ]
    }
   ],
   "source": [
    "if debug_mode:\n",
    "    c = Convolve(C_in, C_out, K)\n",
    "    weights = next(iter(m.parameters())).squeeze().detach().numpy()\n",
    "    c.kernel.data = weights\n",
    "    image = Value(test_input.detach().numpy())\n",
    "    actual = c(image)\n",
    "    print(actual.grad.shape)\n",
    "    print(np.linalg.norm(actual.data - output.data.detach().numpy()))\n",
    "    actual.grad[:] = 1.0\n",
    "    actual._backward()"
   ]
  },
  {
   "cell_type": "markdown",
   "id": "a0547c3d",
   "metadata": {},
   "source": [
    "### Checking whether gradients are correct or not"
   ]
  },
  {
   "cell_type": "code",
   "execution_count": 9,
   "id": "c79a1b6c",
   "metadata": {},
   "outputs": [],
   "source": [
    "if debug_mode:\n",
    "    import torch.nn as nn\n",
    "    import torch.nn.functional as F\n",
    "\n",
    "    C_out = 4\n",
    "    C_in = 3\n",
    "    K = 3\n",
    "    stride = 1\n",
    "    W = 32\n",
    "    H = 32\n",
    "    N = 4\n",
    "\n",
    "    class Net(nn.Module):\n",
    "        def __init__(self):\n",
    "            super().__init__()\n",
    "            self.conv1 = nn.Conv2d(C_in, C_out, K, stride = stride)\n",
    "\n",
    "        def forward(self, x):\n",
    "            x = self.conv1(x)\n",
    "            x = torch.sum(x)\n",
    "            return x\n",
    "\n",
    "\n",
    "    net = Net()"
   ]
  },
  {
   "cell_type": "code",
   "execution_count": 10,
   "id": "a20820ea",
   "metadata": {},
   "outputs": [],
   "source": [
    "if debug_mode:\n",
    "    weight_value = next(iter(net.conv1.parameters())).data.numpy()\n",
    "    c = Convolve(C_in, C_out, K)\n",
    "    c.kernel.data = weight_value\n",
    "    expected_output = net(test_input)\n",
    "    actual_output = c(Value(test_input.numpy()))"
   ]
  },
  {
   "cell_type": "code",
   "execution_count": 11,
   "id": "2888403d",
   "metadata": {},
   "outputs": [],
   "source": [
    "if debug_mode:\n",
    "    import torch.optim as optim\n",
    "    optimizer = optim.SGD(net.parameters(), lr=0.001, momentum=0.9)\n",
    "    optimizer.zero_grad()\n",
    "    expected_output.backward()\n",
    "\n",
    "    actual_output.grad[:] = 1.0\n",
    "    actual_output._backward()"
   ]
  },
  {
   "cell_type": "code",
   "execution_count": 12,
   "id": "39f58f16",
   "metadata": {},
   "outputs": [],
   "source": [
    "if debug_mode:\n",
    "    expected_gradient = list(net.parameters())[0].grad.numpy()\n",
    "    actual_gradient = c.getLearnableParameters()[0].grad"
   ]
  },
  {
   "cell_type": "code",
   "execution_count": 14,
   "id": "a2e93350",
   "metadata": {},
   "outputs": [
    {
     "name": "stdout",
     "output_type": "stream",
     "text": [
      "0.00017543987665445308\n"
     ]
    }
   ],
   "source": [
    "if debug_mode:\n",
    "    print(np.linalg.norm(expected_gradient - actual_gradient))"
   ]
  }
 ],
 "metadata": {
  "kernelspec": {
   "display_name": "ML",
   "language": "python",
   "name": "ml"
  },
  "language_info": {
   "codemirror_mode": {
    "name": "ipython",
    "version": 3
   },
   "file_extension": ".py",
   "mimetype": "text/x-python",
   "name": "python",
   "nbconvert_exporter": "python",
   "pygments_lexer": "ipython3",
   "version": "3.11.3"
  }
 },
 "nbformat": 4,
 "nbformat_minor": 5
}
