{
  "cells": [
    {
      "cell_type": "code",
      "execution_count": 1,
      "id": "ad2667aa",
      "metadata": {
        "id": "ad2667aa"
      },
      "outputs": [],
      "source": [
        "import torchvision\n",
        "import torch\n",
        "import torch.nn as nn\n",
        "\n",
        "import matplotlib.pyplot as plt\n",
        "import numpy as np"
      ]
    },
    {
      "cell_type": "code",
      "execution_count": 2,
      "id": "b2a40cbc",
      "metadata": {
        "id": "b2a40cbc",
        "outputId": "42cd6571-af92-4b55-d722-f9a285386a07",
        "colab": {
          "base_uri": "https://localhost:8080/"
        }
      },
      "outputs": [
        {
          "output_type": "stream",
          "name": "stdout",
          "text": [
            "torch.Size([5, 4, 3, 2])\n",
            "torch.Size([5])\n",
            "torch.float32\n"
          ]
        }
      ],
      "source": [
        "C_out = 5\n",
        "C_in = 4\n",
        "K = (3, 2)\n",
        "Kx, Ky = K\n",
        "stride = 2\n",
        "\n",
        "W = 35\n",
        "H = 32\n",
        "\n",
        "conv_layer = nn.Conv2d(in_channels = C_in, out_channels = C_out, kernel_size = K, stride = stride)\n",
        "\n",
        "print(conv_layer.weight.data.shape)\n",
        "print(conv_layer.bias.data.shape)\n",
        "\n",
        "weight = torch.randn(C_out, C_in, Kx, Ky)\n",
        "\n",
        "bias = torch.randn(C_out)\n",
        "print(weight.dtype)"
      ]
    },
    {
      "cell_type": "code",
      "execution_count": 3,
      "id": "029aea24",
      "metadata": {
        "id": "029aea24",
        "outputId": "eb3c1eec-c5ea-477f-9fa9-75bfa3c5afdb",
        "colab": {
          "base_uri": "https://localhost:8080/"
        }
      },
      "outputs": [
        {
          "output_type": "stream",
          "name": "stdout",
          "text": [
            "Input shape: torch.Size([14, 4, 32, 35])\n",
            "\n",
            "Convolution weights:\n",
            " torch.Size([5, 4, 3, 2])\n",
            "Convolution bias: torch.Size([5])\n",
            "\n",
            "Output shape: torch.Size([14, 5, 15, 17])\n"
          ]
        }
      ],
      "source": [
        "N = 14\n",
        "\n",
        "\n",
        "# Create a dummy input tensor (1 channel, 4x4 image)\n",
        "input_tensor = torch.randn(N, C_in, H, W, requires_grad = True)\n",
        "\n",
        "# Reshape the input tensor to (batch_size, channels, height, width)\n",
        "input_tensor = input_tensor.reshape(N, C_in, H, W)\n",
        "input_tensor.retain_grad()\n",
        "\n",
        "# Define a convolutional layer\n",
        "\n",
        "\n",
        "# Set custom weights and bias for demonstration\n",
        "conv_layer.weight.data = weight\n",
        "conv_layer.bias.data = bias\n",
        "\n",
        "# Apply the convolutional layer to the input\n",
        "output = conv_layer(input_tensor)\n",
        "output.retain_grad()\n",
        "\n",
        "print(\"Input shape:\", input_tensor.shape)\n",
        "# print(\"Input:\\n\", input_tensor.squeeze())\n",
        "print(\"\\nConvolution weights:\\n\", conv_layer.weight.data.shape)\n",
        "print(\"Convolution bias:\", conv_layer.bias.data.shape)\n",
        "print(\"\\nOutput shape:\", output.shape)\n",
        "# print(\"Output:\\n\", output.squeeze())\n"
      ]
    },
    {
      "cell_type": "code",
      "execution_count": 4,
      "id": "23a50681",
      "metadata": {
        "id": "23a50681",
        "outputId": "8c65caa4-73fe-4f79-d0b7-c4417a325248",
        "colab": {
          "base_uri": "https://localhost:8080/"
        }
      },
      "outputs": [
        {
          "output_type": "stream",
          "name": "stdout",
          "text": [
            "15 17\n"
          ]
        }
      ],
      "source": [
        "import math\n",
        "outputHeight = math.floor((H - (Kx - 1) - 1) / stride + 1)\n",
        "outputWidth = math.floor((W - (Ky - 1) - 1) / stride + 1)\n",
        "print(outputHeight, outputWidth)\n"
      ]
    },
    {
      "cell_type": "markdown",
      "id": "942a4282",
      "metadata": {
        "id": "942a4282"
      },
      "source": [
        "### Defining the convolution forward pass"
      ]
    },
    {
      "cell_type": "code",
      "execution_count": 5,
      "id": "53494b39",
      "metadata": {
        "id": "53494b39"
      },
      "outputs": [],
      "source": [
        "def cross_correlate(A, B):\n",
        "    m, n = A.shape\n",
        "    p, q = B.shape\n",
        "    outputH = int((m - p) / stride) + 1\n",
        "    outputW = int((n - q) / stride) + 1\n",
        "    output = torch.zeros((outputH, outputW))\n",
        "    for i in range(outputH):\n",
        "        for j in range(outputW):\n",
        "            value = 0\n",
        "            for u in range(p):\n",
        "                for v in range(q):\n",
        "                    value += A[stride * i + u, stride * j + v] * B[u, v]\n",
        "            output[i, j] = value\n",
        "    return output"
      ]
    },
    {
      "cell_type": "code",
      "execution_count": 6,
      "id": "4b6e3799",
      "metadata": {
        "id": "4b6e3799",
        "outputId": "c04ae140-4ea5-4aa1-83ae-1320acf91469",
        "colab": {
          "base_uri": "https://localhost:8080/"
        }
      },
      "outputs": [
        {
          "output_type": "execute_result",
          "data": {
            "text/plain": [
              "tensor([[ 65.,  85., 105.],\n",
              "        [205., 225., 245.],\n",
              "        [345., 365., 385.]])"
            ]
          },
          "metadata": {},
          "execution_count": 6
        }
      ],
      "source": [
        "stride = 2\n",
        "A = torch.Tensor(np.arange(1, 50).reshape(7,7))\n",
        "B = torch.Tensor(np.arange(1, 5).reshape(2, 2))\n",
        "\n",
        "cross_correlate(A, B)"
      ]
    },
    {
      "cell_type": "code",
      "execution_count": 7,
      "id": "4d382028",
      "metadata": {
        "id": "4d382028"
      },
      "outputs": [],
      "source": [
        "def convolve():\n",
        "    output_tensor = torch.zeros((N, C_out, outputHeight, outputWidth))\n",
        "    for i in range(N):\n",
        "        for j in range(C_out):\n",
        "            for k in range(C_in):\n",
        "                output_tensor[i, j] += cross_correlate(input_tensor[i, k], weight[j, k])\n",
        "            output_tensor[i, j] += bias[j]\n",
        "    return output_tensor"
      ]
    },
    {
      "cell_type": "code",
      "execution_count": 8,
      "id": "41d42b9d",
      "metadata": {
        "id": "41d42b9d",
        "outputId": "545e706f-095c-47fd-f7dc-03f7ac97ece8",
        "colab": {
          "base_uri": "https://localhost:8080/"
        }
      },
      "outputs": [
        {
          "output_type": "stream",
          "name": "stdout",
          "text": [
            "CPU times: user 13.6 s, sys: 1.24 s, total: 14.9 s\n",
            "Wall time: 15.1 s\n"
          ]
        }
      ],
      "source": [
        "%%time\n",
        "output_tensor = convolve()"
      ]
    },
    {
      "cell_type": "code",
      "source": [
        "# random_gradient = torch.randn(output.shape)\n",
        "random_gradient = torch.ones(output.shape)\n",
        "l = (output * random_gradient).sum()\n",
        "l.backward()\n",
        "output_grad = output.grad"
      ],
      "metadata": {
        "id": "hw0G0zPgMiRE"
      },
      "id": "hw0G0zPgMiRE",
      "execution_count": 9,
      "outputs": []
    },
    {
      "cell_type": "code",
      "source": [
        "assert(torch.isclose(random_gradient, output_grad).all().item())"
      ],
      "metadata": {
        "id": "tzapC_knNYsV"
      },
      "id": "tzapC_knNYsV",
      "execution_count": 10,
      "outputs": []
    },
    {
      "cell_type": "code",
      "execution_count": 11,
      "id": "771dea85",
      "metadata": {
        "id": "771dea85"
      },
      "outputs": [],
      "source": [
        "assert(torch.norm(output_tensor - output) < 1e-4)"
      ]
    },
    {
      "cell_type": "code",
      "execution_count": 12,
      "id": "7b500f21",
      "metadata": {
        "id": "7b500f21"
      },
      "outputs": [],
      "source": [
        "def within_limits(A, x, y):\n",
        "  p, q = A.shape\n",
        "  return (x >= 0 and x < p) and (y >= 0 and y < q)\n",
        "\n",
        "def cross_correlation_grad(C_grad, A, s, p, q):\n",
        "    m, n = A.shape\n",
        "    weight_grad = torch.zeros(p, q)\n",
        "\n",
        "    xLim = math.floor((m - p) / abs(s) + 1)\n",
        "    yLim = math.floor((n - q) / abs(s) + 1)\n",
        "    for a in range(p):\n",
        "        for b in range(q):\n",
        "            value = 0\n",
        "            for i in range(xLim):\n",
        "                for j in range(yLim):\n",
        "                  xVal = i * s + a\n",
        "                  yVal = j * s + b\n",
        "                  if within_limits(A, xVal, yVal):\n",
        "                    value += C_grad[i, j].item() * A[xVal, yVal].item()\n",
        "            weight_grad[a, b] = value\n",
        "    return weight_grad"
      ]
    },
    {
      "cell_type": "code",
      "execution_count": 13,
      "id": "69bbb920",
      "metadata": {
        "id": "69bbb920"
      },
      "outputs": [],
      "source": [
        "def convolution_grad():\n",
        "    weight_grad = torch.zeros(C_out, C_in, Kx, Ky)\n",
        "    for j in range(C_out):\n",
        "        for k in range(C_in):\n",
        "            w_grad = torch.zeros(Kx, Ky)\n",
        "            for i in range(N):\n",
        "                w_grad += cross_correlation_grad(output_grad[i, j], input_tensor[i, k],  stride, Kx, Ky)\n",
        "            weight_grad[j, k] += w_grad\n",
        "\n",
        "\n",
        "    bias_grad = torch.zeros(C_out)\n",
        "\n",
        "    for j in range(C_out):\n",
        "      value = 0\n",
        "      for i in range(N):\n",
        "        for k in range(outputHeight):\n",
        "          for l in range(outputWidth):\n",
        "            value += output_grad[i, j, k, l]\n",
        "      bias_grad[j] += value\n",
        "\n",
        "    input_grad = torch.zeros(N, C_in, H, W)\n",
        "\n",
        "    for i in range(N):\n",
        "      for k in range(C_in):\n",
        "        i_grad = torch.zeros(H, W)\n",
        "        for j in range(C_out):\n",
        "          i_grad += cross_correlation_grad(output_grad[i, j], weight[j, k], -stride, H, W)\n",
        "        input_grad[i, k] += i_grad\n",
        "\n",
        "    return weight_grad, bias_grad, input_grad"
      ]
    },
    {
      "cell_type": "code",
      "source": [
        "conv_layer.bias.grad"
      ],
      "metadata": {
        "id": "Ew_o3-Y5AaWx",
        "outputId": "573b34a6-9cf8-47f3-9e92-ddae3551ed54",
        "colab": {
          "base_uri": "https://localhost:8080/"
        }
      },
      "id": "Ew_o3-Y5AaWx",
      "execution_count": 14,
      "outputs": [
        {
          "output_type": "execute_result",
          "data": {
            "text/plain": [
              "tensor([3570., 3570., 3570., 3570., 3570.])"
            ]
          },
          "metadata": {},
          "execution_count": 14
        }
      ]
    },
    {
      "cell_type": "code",
      "execution_count": 15,
      "id": "6fc35c96",
      "metadata": {
        "id": "6fc35c96",
        "outputId": "067b288a-aeb7-4b9f-ffcb-579029e7d642",
        "colab": {
          "base_uri": "https://localhost:8080/"
        }
      },
      "outputs": [
        {
          "output_type": "stream",
          "name": "stdout",
          "text": [
            "CPU times: user 9.1 s, sys: 22 ms, total: 9.12 s\n",
            "Wall time: 9.35 s\n"
          ]
        }
      ],
      "source": [
        "%%time\n",
        "w_grad, b_grad, i_grad = convolution_grad()"
      ]
    },
    {
      "cell_type": "code",
      "source": [
        "torch.norm(i_grad - input_tensor.grad).item()"
      ],
      "metadata": {
        "id": "JdIIAo6MSOxQ",
        "outputId": "b93a08ed-bf2e-426d-98f0-a8974ec21a5b",
        "colab": {
          "base_uri": "https://localhost:8080/"
        }
      },
      "id": "JdIIAo6MSOxQ",
      "execution_count": 16,
      "outputs": [
        {
          "output_type": "execute_result",
          "data": {
            "text/plain": [
              "544.2529907226562"
            ]
          },
          "metadata": {},
          "execution_count": 16
        }
      ]
    },
    {
      "cell_type": "code",
      "source": [
        "torch.norm(conv_layer.weight.grad - w_grad).item()"
      ],
      "metadata": {
        "id": "5xLI0JSYSSWe",
        "outputId": "138d3bdc-6ed0-49e5-8293-574793736a2a",
        "colab": {
          "base_uri": "https://localhost:8080/"
        }
      },
      "id": "5xLI0JSYSSWe",
      "execution_count": 17,
      "outputs": [
        {
          "output_type": "execute_result",
          "data": {
            "text/plain": [
              "0.00042751748696900904"
            ]
          },
          "metadata": {},
          "execution_count": 17
        }
      ]
    },
    {
      "cell_type": "code",
      "source": [
        "torch.norm(conv_layer.bias.grad - b_grad).item()"
      ],
      "metadata": {
        "id": "A4NqzB_zSXe9",
        "outputId": "1d349cea-b341-4984-baf3-ade65fa9b38d",
        "colab": {
          "base_uri": "https://localhost:8080/"
        }
      },
      "id": "A4NqzB_zSXe9",
      "execution_count": 18,
      "outputs": [
        {
          "output_type": "execute_result",
          "data": {
            "text/plain": [
              "0.0"
            ]
          },
          "metadata": {},
          "execution_count": 18
        }
      ]
    },
    {
      "cell_type": "code",
      "source": [
        "assert(torch.norm(i_grad - input_tensor.grad).item() < 1e-4)"
      ],
      "metadata": {
        "id": "D65NDf1uLwIN",
        "outputId": "8aa14d88-6077-4a7c-8791-3f82c646377f",
        "colab": {
          "base_uri": "https://localhost:8080/",
          "height": 146
        }
      },
      "id": "D65NDf1uLwIN",
      "execution_count": 19,
      "outputs": [
        {
          "output_type": "error",
          "ename": "AssertionError",
          "evalue": "",
          "traceback": [
            "\u001b[0;31m---------------------------------------------------------------------------\u001b[0m",
            "\u001b[0;31mAssertionError\u001b[0m                            Traceback (most recent call last)",
            "\u001b[0;32m<ipython-input-19-9c88157ded5e>\u001b[0m in \u001b[0;36m<cell line: 0>\u001b[0;34m()\u001b[0m\n\u001b[0;32m----> 1\u001b[0;31m \u001b[0;32massert\u001b[0m\u001b[0;34m(\u001b[0m\u001b[0mtorch\u001b[0m\u001b[0;34m.\u001b[0m\u001b[0mnorm\u001b[0m\u001b[0;34m(\u001b[0m\u001b[0mi_grad\u001b[0m \u001b[0;34m-\u001b[0m \u001b[0minput_tensor\u001b[0m\u001b[0;34m.\u001b[0m\u001b[0mgrad\u001b[0m\u001b[0;34m)\u001b[0m\u001b[0;34m.\u001b[0m\u001b[0mitem\u001b[0m\u001b[0;34m(\u001b[0m\u001b[0;34m)\u001b[0m \u001b[0;34m<\u001b[0m \u001b[0;36m1e-4\u001b[0m\u001b[0;34m)\u001b[0m\u001b[0;34m\u001b[0m\u001b[0;34m\u001b[0m\u001b[0m\n\u001b[0m",
            "\u001b[0;31mAssertionError\u001b[0m: "
          ]
        }
      ]
    },
    {
      "cell_type": "code",
      "source": [
        "assert(torch.isclose(b_grad, conv_layer.bias.grad).all().item())"
      ],
      "metadata": {
        "id": "VLxi2DshBISQ"
      },
      "id": "VLxi2DshBISQ",
      "execution_count": 20,
      "outputs": []
    },
    {
      "cell_type": "code",
      "execution_count": 21,
      "id": "5947ef8f",
      "metadata": {
        "id": "5947ef8f"
      },
      "outputs": [],
      "source": [
        "assert(torch.norm(conv_layer.weight.grad - w_grad).item() < 1e-2)"
      ]
    },
    {
      "cell_type": "code",
      "source": [
        "conv_layer.weight.grad"
      ],
      "metadata": {
        "id": "pWepA4lCP7KU"
      },
      "id": "pWepA4lCP7KU",
      "execution_count": null,
      "outputs": []
    },
    {
      "cell_type": "code",
      "source": [
        "A = torch.tensor(np.array([[5, 27, 9, -15, 12], [2,4,-2,-7,8], [-8, 16, 5, 23, -6], [-8, 16, 5, 23, -6], [-17, 7, 9, -14, 3], [10, -5, 13, 6, -11.0]]), requires_grad = True)\n",
        "A.retain_grad()\n",
        "B = torch.tensor(np.array([[8, 4], [2, 6.0]]), requires_grad = True)\n",
        "B.retain_grad()"
      ],
      "metadata": {
        "id": "KPYOTEQbWo0W"
      },
      "id": "KPYOTEQbWo0W",
      "execution_count": 34,
      "outputs": []
    },
    {
      "cell_type": "code",
      "source": [],
      "metadata": {
        "id": "jaaTGp92XRue"
      },
      "id": "jaaTGp92XRue",
      "execution_count": null,
      "outputs": []
    }
  ],
  "metadata": {
    "kernelspec": {
      "display_name": "ML",
      "language": "python",
      "name": "ml"
    },
    "language_info": {
      "codemirror_mode": {
        "name": "ipython",
        "version": 3
      },
      "file_extension": ".py",
      "mimetype": "text/x-python",
      "name": "python",
      "nbconvert_exporter": "python",
      "pygments_lexer": "ipython3",
      "version": "3.11.5"
    },
    "colab": {
      "provenance": []
    }
  },
  "nbformat": 4,
  "nbformat_minor": 5
}